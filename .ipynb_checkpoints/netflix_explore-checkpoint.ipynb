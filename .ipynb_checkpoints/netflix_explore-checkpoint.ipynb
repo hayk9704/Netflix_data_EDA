{
 "cells": [
  {
   "cell_type": "code",
   "execution_count": 1,
   "id": "efbe0bca-72f5-4a84-850d-432c1b1f4674",
   "metadata": {},
   "outputs": [],
   "source": [
    "# using sqlite3 for data exploration + visualization. pandas - for df\n",
    "import sqlite3\n",
    "import pandas as pd"
   ]
  },
  {
   "cell_type": "code",
   "execution_count": 2,
   "id": "59522b18-77dc-4c92-ac78-b9f0344acf6b",
   "metadata": {},
   "outputs": [
    {
     "name": "stdout",
     "output_type": "stream",
     "text": [
      "Requirement already satisfied: ipython-sql in c:\\users\\haykg\\appdata\\roaming\\python\\python313\\site-packages (0.5.0)\n",
      "Requirement already satisfied: prettytable in c:\\users\\haykg\\appdata\\roaming\\python\\python313\\site-packages (from ipython-sql) (3.16.0)\n",
      "Requirement already satisfied: ipython in c:\\users\\haykg\\appdata\\local\\programs\\python\\python313\\lib\\site-packages (from ipython-sql) (9.2.0)\n",
      "Requirement already satisfied: sqlalchemy>=2.0 in c:\\users\\haykg\\appdata\\roaming\\python\\python313\\site-packages (from ipython-sql) (2.0.41)\n",
      "Requirement already satisfied: sqlparse in c:\\users\\haykg\\appdata\\roaming\\python\\python313\\site-packages (from ipython-sql) (0.5.3)\n",
      "Requirement already satisfied: six in c:\\users\\haykg\\appdata\\local\\programs\\python\\python313\\lib\\site-packages (from ipython-sql) (1.17.0)\n",
      "Requirement already satisfied: ipython-genutils in c:\\users\\haykg\\appdata\\roaming\\python\\python313\\site-packages (from ipython-sql) (0.2.0)\n",
      "Requirement already satisfied: greenlet>=1 in c:\\users\\haykg\\appdata\\roaming\\python\\python313\\site-packages (from sqlalchemy>=2.0->ipython-sql) (3.2.3)\n",
      "Requirement already satisfied: typing-extensions>=4.6.0 in c:\\users\\haykg\\appdata\\local\\programs\\python\\python313\\lib\\site-packages (from sqlalchemy>=2.0->ipython-sql) (4.13.2)\n",
      "Requirement already satisfied: colorama in c:\\users\\haykg\\appdata\\local\\programs\\python\\python313\\lib\\site-packages (from ipython->ipython-sql) (0.4.6)\n",
      "Requirement already satisfied: decorator in c:\\users\\haykg\\appdata\\local\\programs\\python\\python313\\lib\\site-packages (from ipython->ipython-sql) (5.2.1)\n",
      "Requirement already satisfied: ipython-pygments-lexers in c:\\users\\haykg\\appdata\\local\\programs\\python\\python313\\lib\\site-packages (from ipython->ipython-sql) (1.1.1)\n",
      "Requirement already satisfied: jedi>=0.16 in c:\\users\\haykg\\appdata\\local\\programs\\python\\python313\\lib\\site-packages (from ipython->ipython-sql) (0.19.2)\n",
      "Requirement already satisfied: matplotlib-inline in c:\\users\\haykg\\appdata\\local\\programs\\python\\python313\\lib\\site-packages (from ipython->ipython-sql) (0.1.7)\n",
      "Requirement already satisfied: prompt_toolkit<3.1.0,>=3.0.41 in c:\\users\\haykg\\appdata\\local\\programs\\python\\python313\\lib\\site-packages (from ipython->ipython-sql) (3.0.51)\n",
      "Requirement already satisfied: pygments>=2.4.0 in c:\\users\\haykg\\appdata\\local\\programs\\python\\python313\\lib\\site-packages (from ipython->ipython-sql) (2.19.1)\n",
      "Requirement already satisfied: stack_data in c:\\users\\haykg\\appdata\\local\\programs\\python\\python313\\lib\\site-packages (from ipython->ipython-sql) (0.6.3)\n",
      "Requirement already satisfied: traitlets>=5.13.0 in c:\\users\\haykg\\appdata\\local\\programs\\python\\python313\\lib\\site-packages (from ipython->ipython-sql) (5.14.3)\n",
      "Requirement already satisfied: wcwidth in c:\\users\\haykg\\appdata\\local\\programs\\python\\python313\\lib\\site-packages (from prompt_toolkit<3.1.0,>=3.0.41->ipython->ipython-sql) (0.2.13)\n",
      "Requirement already satisfied: parso<0.9.0,>=0.8.4 in c:\\users\\haykg\\appdata\\local\\programs\\python\\python313\\lib\\site-packages (from jedi>=0.16->ipython->ipython-sql) (0.8.4)\n",
      "Requirement already satisfied: executing>=1.2.0 in c:\\users\\haykg\\appdata\\local\\programs\\python\\python313\\lib\\site-packages (from stack_data->ipython->ipython-sql) (2.2.0)\n",
      "Requirement already satisfied: asttokens>=2.1.0 in c:\\users\\haykg\\appdata\\local\\programs\\python\\python313\\lib\\site-packages (from stack_data->ipython->ipython-sql) (3.0.0)\n",
      "Requirement already satisfied: pure-eval in c:\\users\\haykg\\appdata\\local\\programs\\python\\python313\\lib\\site-packages (from stack_data->ipython->ipython-sql) (0.2.3)\n",
      "Requirement already satisfied: seaborn in c:\\users\\haykg\\appdata\\local\\programs\\python\\python313\\lib\\site-packages (0.13.2)\n",
      "Requirement already satisfied: numpy!=1.24.0,>=1.20 in c:\\users\\haykg\\appdata\\local\\programs\\python\\python313\\lib\\site-packages (from seaborn) (2.2.5)\n",
      "Requirement already satisfied: pandas>=1.2 in c:\\users\\haykg\\appdata\\local\\programs\\python\\python313\\lib\\site-packages (from seaborn) (2.2.3)\n",
      "Requirement already satisfied: matplotlib!=3.6.1,>=3.4 in c:\\users\\haykg\\appdata\\local\\programs\\python\\python313\\lib\\site-packages (from seaborn) (3.10.1)\n",
      "Requirement already satisfied: contourpy>=1.0.1 in c:\\users\\haykg\\appdata\\local\\programs\\python\\python313\\lib\\site-packages (from matplotlib!=3.6.1,>=3.4->seaborn) (1.3.2)\n",
      "Requirement already satisfied: cycler>=0.10 in c:\\users\\haykg\\appdata\\local\\programs\\python\\python313\\lib\\site-packages (from matplotlib!=3.6.1,>=3.4->seaborn) (0.12.1)\n",
      "Requirement already satisfied: fonttools>=4.22.0 in c:\\users\\haykg\\appdata\\local\\programs\\python\\python313\\lib\\site-packages (from matplotlib!=3.6.1,>=3.4->seaborn) (4.57.0)\n",
      "Requirement already satisfied: kiwisolver>=1.3.1 in c:\\users\\haykg\\appdata\\local\\programs\\python\\python313\\lib\\site-packages (from matplotlib!=3.6.1,>=3.4->seaborn) (1.4.8)\n",
      "Requirement already satisfied: packaging>=20.0 in c:\\users\\haykg\\appdata\\local\\programs\\python\\python313\\lib\\site-packages (from matplotlib!=3.6.1,>=3.4->seaborn) (25.0)\n",
      "Requirement already satisfied: pillow>=8 in c:\\users\\haykg\\appdata\\local\\programs\\python\\python313\\lib\\site-packages (from matplotlib!=3.6.1,>=3.4->seaborn) (11.2.1)\n",
      "Requirement already satisfied: pyparsing>=2.3.1 in c:\\users\\haykg\\appdata\\local\\programs\\python\\python313\\lib\\site-packages (from matplotlib!=3.6.1,>=3.4->seaborn) (3.2.3)\n",
      "Requirement already satisfied: python-dateutil>=2.7 in c:\\users\\haykg\\appdata\\local\\programs\\python\\python313\\lib\\site-packages (from matplotlib!=3.6.1,>=3.4->seaborn) (2.9.0.post0)\n",
      "Requirement already satisfied: pytz>=2020.1 in c:\\users\\haykg\\appdata\\local\\programs\\python\\python313\\lib\\site-packages (from pandas>=1.2->seaborn) (2025.2)\n",
      "Requirement already satisfied: tzdata>=2022.7 in c:\\users\\haykg\\appdata\\local\\programs\\python\\python313\\lib\\site-packages (from pandas>=1.2->seaborn) (2025.2)\n",
      "Requirement already satisfied: six>=1.5 in c:\\users\\haykg\\appdata\\local\\programs\\python\\python313\\lib\\site-packages (from python-dateutil>=2.7->matplotlib!=3.6.1,>=3.4->seaborn) (1.17.0)\n"
     ]
    }
   ],
   "source": [
    "# ipython-sql for sql magic statements, matplotlib and seaborn for visualization \n",
    "!pip install ipython-sql\n",
    "!pip install seaborn \n",
    "import seaborn as sns\n",
    "%load_ext sql\n",
    "import matplotlib.pyplot as plt"
   ]
  },
  {
   "cell_type": "code",
   "execution_count": 3,
   "id": "37c0cd2b-e886-4051-99b6-fdfcfe48fb46",
   "metadata": {},
   "outputs": [],
   "source": [
    "# this either creates a new database or uses the existing one if it exists. it's done in thee current directory\n",
    "# here we make a new database - netflix.db\n",
    "conn = sqlite3.connect('netflix.db')\n",
    "cur = conn.cursor()"
   ]
  },
  {
   "cell_type": "code",
   "execution_count": 4,
   "id": "c16b63bd-f1d2-4c6b-865d-8cfa6f2a9d1c",
   "metadata": {},
   "outputs": [
    {
     "data": {
      "text/plain": [
       "'C:\\\\Users\\\\haykg\\\\Documents\\\\github\\\\Netflix_data_EDA'"
      ]
     },
     "execution_count": 4,
     "metadata": {},
     "output_type": "execute_result"
    }
   ],
   "source": [
    "# check the current directory. That's where the database is stored\n",
    "%pwd"
   ]
  },
  {
   "cell_type": "code",
   "execution_count": 5,
   "id": "204420eb-c4a4-4f23-8750-0f064a3a7a1a",
   "metadata": {},
   "outputs": [],
   "source": [
    "# this is to be able to use the netflix database with magic sql commands\n",
    "%sql sqlite:///netflix.db"
   ]
  },
  {
   "cell_type": "code",
   "execution_count": 6,
   "id": "254a7131-2159-4e6c-93fc-1d6976ecd8d2",
   "metadata": {},
   "outputs": [],
   "source": [
    "df = pd.read_csv('netflix_titles.csv')"
   ]
  },
  {
   "cell_type": "code",
   "execution_count": 7,
   "id": "078528ec-a6f0-4f22-84e0-717475e08a98",
   "metadata": {
    "scrolled": true
   },
   "outputs": [
    {
     "data": {
      "text/plain": [
       "8807"
      ]
     },
     "execution_count": 7,
     "metadata": {},
     "output_type": "execute_result"
    }
   ],
   "source": [
    "# pandas method that takes the pandas DataFrame df and writes it into my SQL database and names Chicago_socioeconomic_data.\n",
    "# index = FALSE says **Do not write the DataFrame’s index** as a column in the SQL table. By default, `to_sql` will create \n",
    "# a column for the DataFrame’s index; setting `index=False` skips that.\n",
    "# method = \"multi\" will allow to insert several rows simultaneously. Otherwise it would just be one row at a time.\n",
    "df.to_sql(\"netflix\", conn, if_exists=\"replace\", index = False)"
   ]
  },
  {
   "cell_type": "code",
   "execution_count": 8,
   "id": "380f0d6f-e4b6-444d-82d9-ced1f07ac29d",
   "metadata": {},
   "outputs": [
    {
     "name": "stdout",
     "output_type": "stream",
     "text": [
      "Requirement already satisfied: ipython-sql in c:\\users\\haykg\\appdata\\roaming\\python\\python313\\site-packages (0.5.0)\n",
      "Requirement already satisfied: prettytable in c:\\users\\haykg\\appdata\\roaming\\python\\python313\\site-packages (3.16.0)\n",
      "Requirement already satisfied: ipython in c:\\users\\haykg\\appdata\\local\\programs\\python\\python313\\lib\\site-packages (from ipython-sql) (9.2.0)\n",
      "Requirement already satisfied: sqlalchemy>=2.0 in c:\\users\\haykg\\appdata\\roaming\\python\\python313\\site-packages (from ipython-sql) (2.0.41)\n",
      "Requirement already satisfied: sqlparse in c:\\users\\haykg\\appdata\\roaming\\python\\python313\\site-packages (from ipython-sql) (0.5.3)\n",
      "Requirement already satisfied: six in c:\\users\\haykg\\appdata\\local\\programs\\python\\python313\\lib\\site-packages (from ipython-sql) (1.17.0)\n",
      "Requirement already satisfied: ipython-genutils in c:\\users\\haykg\\appdata\\roaming\\python\\python313\\site-packages (from ipython-sql) (0.2.0)\n",
      "Requirement already satisfied: wcwidth in c:\\users\\haykg\\appdata\\local\\programs\\python\\python313\\lib\\site-packages (from prettytable) (0.2.13)\n",
      "Requirement already satisfied: greenlet>=1 in c:\\users\\haykg\\appdata\\roaming\\python\\python313\\site-packages (from sqlalchemy>=2.0->ipython-sql) (3.2.3)\n",
      "Requirement already satisfied: typing-extensions>=4.6.0 in c:\\users\\haykg\\appdata\\local\\programs\\python\\python313\\lib\\site-packages (from sqlalchemy>=2.0->ipython-sql) (4.13.2)\n",
      "Requirement already satisfied: colorama in c:\\users\\haykg\\appdata\\local\\programs\\python\\python313\\lib\\site-packages (from ipython->ipython-sql) (0.4.6)\n",
      "Requirement already satisfied: decorator in c:\\users\\haykg\\appdata\\local\\programs\\python\\python313\\lib\\site-packages (from ipython->ipython-sql) (5.2.1)\n",
      "Requirement already satisfied: ipython-pygments-lexers in c:\\users\\haykg\\appdata\\local\\programs\\python\\python313\\lib\\site-packages (from ipython->ipython-sql) (1.1.1)\n",
      "Requirement already satisfied: jedi>=0.16 in c:\\users\\haykg\\appdata\\local\\programs\\python\\python313\\lib\\site-packages (from ipython->ipython-sql) (0.19.2)\n",
      "Requirement already satisfied: matplotlib-inline in c:\\users\\haykg\\appdata\\local\\programs\\python\\python313\\lib\\site-packages (from ipython->ipython-sql) (0.1.7)\n",
      "Requirement already satisfied: prompt_toolkit<3.1.0,>=3.0.41 in c:\\users\\haykg\\appdata\\local\\programs\\python\\python313\\lib\\site-packages (from ipython->ipython-sql) (3.0.51)\n",
      "Requirement already satisfied: pygments>=2.4.0 in c:\\users\\haykg\\appdata\\local\\programs\\python\\python313\\lib\\site-packages (from ipython->ipython-sql) (2.19.1)\n",
      "Requirement already satisfied: stack_data in c:\\users\\haykg\\appdata\\local\\programs\\python\\python313\\lib\\site-packages (from ipython->ipython-sql) (0.6.3)\n",
      "Requirement already satisfied: traitlets>=5.13.0 in c:\\users\\haykg\\appdata\\local\\programs\\python\\python313\\lib\\site-packages (from ipython->ipython-sql) (5.14.3)\n",
      "Requirement already satisfied: parso<0.9.0,>=0.8.4 in c:\\users\\haykg\\appdata\\local\\programs\\python\\python313\\lib\\site-packages (from jedi>=0.16->ipython->ipython-sql) (0.8.4)\n",
      "Requirement already satisfied: executing>=1.2.0 in c:\\users\\haykg\\appdata\\local\\programs\\python\\python313\\lib\\site-packages (from stack_data->ipython->ipython-sql) (2.2.0)\n",
      "Requirement already satisfied: asttokens>=2.1.0 in c:\\users\\haykg\\appdata\\local\\programs\\python\\python313\\lib\\site-packages (from stack_data->ipython->ipython-sql) (3.0.0)\n",
      "Requirement already satisfied: pure-eval in c:\\users\\haykg\\appdata\\local\\programs\\python\\python313\\lib\\site-packages (from stack_data->ipython->ipython-sql) (0.2.3)\n"
     ]
    }
   ],
   "source": [
    "# For below you can also\n",
    "# Install the 'ipython-sql' and 'prettytable' libraries using pip\n",
    "!pip install ipython-sql prettytable\n",
    "\n",
    "# Import the 'prettytable' library, which is used to display data in a formatted table\n",
    "import prettytable\n",
    "\n",
    "# Set the default display format for prettytable to 'DEFAULT' (i.e., a simple table format)\n",
    "prettytable.DEFAULT = 'DEFAULT'"
   ]
  },
  {
   "cell_type": "code",
   "execution_count": 10,
   "id": "45cd03b9-277b-4209-bd51-3e09cbbeb2ce",
   "metadata": {},
   "outputs": [
    {
     "name": "stdout",
     "output_type": "stream",
     "text": [
      " * sqlite:///netflix.db\n",
      "Done.\n"
     ]
    },
    {
     "data": {
      "text/html": [
       "<table>\n",
       "    <thead>\n",
       "        <tr>\n",
       "            <th>show_id</th>\n",
       "            <th>type</th>\n",
       "            <th>title</th>\n",
       "            <th>director</th>\n",
       "            <th>cast</th>\n",
       "            <th>country</th>\n",
       "            <th>date_added</th>\n",
       "            <th>release_year</th>\n",
       "            <th>rating</th>\n",
       "            <th>duration</th>\n",
       "            <th>listed_in</th>\n",
       "            <th>description</th>\n",
       "        </tr>\n",
       "    </thead>\n",
       "    <tbody>\n",
       "        <tr>\n",
       "            <td>s1</td>\n",
       "            <td>Movie</td>\n",
       "            <td>Dick Johnson Is Dead</td>\n",
       "            <td>Kirsten Johnson</td>\n",
       "            <td>None</td>\n",
       "            <td>United States</td>\n",
       "            <td>September 25, 2021</td>\n",
       "            <td>2020</td>\n",
       "            <td>PG-13</td>\n",
       "            <td>90 min</td>\n",
       "            <td>Documentaries</td>\n",
       "            <td>As her father nears the end of his life, filmmaker Kirsten Johnson stages his death in inventive and comical ways to help them both face the inevitable.</td>\n",
       "        </tr>\n",
       "        <tr>\n",
       "            <td>s2</td>\n",
       "            <td>TV Show</td>\n",
       "            <td>Blood &amp; Water</td>\n",
       "            <td>None</td>\n",
       "            <td>Ama Qamata, Khosi Ngema, Gail Mabalane, Thabang Molaba, Dillon Windvogel, Natasha Thahane, Arno Greeff, Xolile Tshabalala, Getmore Sithole, Cindy Mahlangu, Ryle De Morny, Greteli Fincham, Sello Maake Ka-Ncube, Odwa Gwanya, Mekaila Mathys, Sandi Schultz, Duane Williams, Shamilla Miller, Patrick Mofokeng</td>\n",
       "            <td>South Africa</td>\n",
       "            <td>September 24, 2021</td>\n",
       "            <td>2021</td>\n",
       "            <td>TV-MA</td>\n",
       "            <td>2 Seasons</td>\n",
       "            <td>International TV Shows, TV Dramas, TV Mysteries</td>\n",
       "            <td>After crossing paths at a party, a Cape Town teen sets out to prove whether a private-school swimming star is her sister who was abducted at birth.</td>\n",
       "        </tr>\n",
       "        <tr>\n",
       "            <td>s3</td>\n",
       "            <td>TV Show</td>\n",
       "            <td>Ganglands</td>\n",
       "            <td>Julien Leclercq</td>\n",
       "            <td>Sami Bouajila, Tracy Gotoas, Samuel Jouy, Nabiha Akkari, Sofia Lesaffre, Salim Kechiouche, Noureddine Farihi, Geert Van Rampelberg, Bakary Diombera</td>\n",
       "            <td>None</td>\n",
       "            <td>September 24, 2021</td>\n",
       "            <td>2021</td>\n",
       "            <td>TV-MA</td>\n",
       "            <td>1 Season</td>\n",
       "            <td>Crime TV Shows, International TV Shows, TV Action &amp; Adventure</td>\n",
       "            <td>To protect his family from a powerful drug lord, skilled thief Mehdi and his expert team of robbers are pulled into a violent and deadly turf war.</td>\n",
       "        </tr>\n",
       "    </tbody>\n",
       "</table>"
      ],
      "text/plain": [
       "[('s1', 'Movie', 'Dick Johnson Is Dead', 'Kirsten Johnson', None, 'United States', 'September 25, 2021', 2020, 'PG-13', '90 min', 'Documentaries', 'As her father nears the end of his life, filmmaker Kirsten Johnson stages his death in inventive and comical ways to help them both face the inevitable.'),\n",
       " ('s2', 'TV Show', 'Blood & Water', None, 'Ama Qamata, Khosi Ngema, Gail Mabalane, Thabang Molaba, Dillon Windvogel, Natasha Thahane, Arno Greeff, Xolile Tshabalala, Getmore Sithole, Cindy Mah ... (5 characters truncated) ... , Ryle De Morny, Greteli Fincham, Sello Maake Ka-Ncube, Odwa Gwanya, Mekaila Mathys, Sandi Schultz, Duane Williams, Shamilla Miller, Patrick Mofokeng', 'South Africa', 'September 24, 2021', 2021, 'TV-MA', '2 Seasons', 'International TV Shows, TV Dramas, TV Mysteries', 'After crossing paths at a party, a Cape Town teen sets out to prove whether a private-school swimming star is her sister who was abducted at birth.'),\n",
       " ('s3', 'TV Show', 'Ganglands', 'Julien Leclercq', 'Sami Bouajila, Tracy Gotoas, Samuel Jouy, Nabiha Akkari, Sofia Lesaffre, Salim Kechiouche, Noureddine Farihi, Geert Van Rampelberg, Bakary Diombera', None, 'September 24, 2021', 2021, 'TV-MA', '1 Season', 'Crime TV Shows, International TV Shows, TV Action & Adventure', 'To protect his family from a powerful drug lord, skilled thief Mehdi and his expert team of robbers are pulled into a violent and deadly turf war.')]"
      ]
     },
     "execution_count": 10,
     "metadata": {},
     "output_type": "execute_result"
    }
   ],
   "source": [
    "%sql select * from netflix limit 3"
   ]
  },
  {
   "cell_type": "code",
   "execution_count": 11,
   "id": "de78a4b2-1dd0-443e-86a4-b6eeff8165b7",
   "metadata": {
    "scrolled": true
   },
   "outputs": [
    {
     "name": "stdout",
     "output_type": "stream",
     "text": [
      " * sqlite:///netflix.db\n",
      "Done.\n"
     ]
    },
    {
     "data": {
      "text/html": [
       "<table>\n",
       "    <thead>\n",
       "        <tr>\n",
       "            <th>cid</th>\n",
       "            <th>name</th>\n",
       "            <th>type</th>\n",
       "            <th>notnull</th>\n",
       "            <th>dflt_value</th>\n",
       "            <th>pk</th>\n",
       "        </tr>\n",
       "    </thead>\n",
       "    <tbody>\n",
       "        <tr>\n",
       "            <td>0</td>\n",
       "            <td>show_id</td>\n",
       "            <td>TEXT</td>\n",
       "            <td>0</td>\n",
       "            <td>None</td>\n",
       "            <td>0</td>\n",
       "        </tr>\n",
       "        <tr>\n",
       "            <td>1</td>\n",
       "            <td>type</td>\n",
       "            <td>TEXT</td>\n",
       "            <td>0</td>\n",
       "            <td>None</td>\n",
       "            <td>0</td>\n",
       "        </tr>\n",
       "        <tr>\n",
       "            <td>2</td>\n",
       "            <td>title</td>\n",
       "            <td>TEXT</td>\n",
       "            <td>0</td>\n",
       "            <td>None</td>\n",
       "            <td>0</td>\n",
       "        </tr>\n",
       "        <tr>\n",
       "            <td>3</td>\n",
       "            <td>director</td>\n",
       "            <td>TEXT</td>\n",
       "            <td>0</td>\n",
       "            <td>None</td>\n",
       "            <td>0</td>\n",
       "        </tr>\n",
       "        <tr>\n",
       "            <td>4</td>\n",
       "            <td>cast</td>\n",
       "            <td>TEXT</td>\n",
       "            <td>0</td>\n",
       "            <td>None</td>\n",
       "            <td>0</td>\n",
       "        </tr>\n",
       "        <tr>\n",
       "            <td>5</td>\n",
       "            <td>country</td>\n",
       "            <td>TEXT</td>\n",
       "            <td>0</td>\n",
       "            <td>None</td>\n",
       "            <td>0</td>\n",
       "        </tr>\n",
       "        <tr>\n",
       "            <td>6</td>\n",
       "            <td>date_added</td>\n",
       "            <td>TEXT</td>\n",
       "            <td>0</td>\n",
       "            <td>None</td>\n",
       "            <td>0</td>\n",
       "        </tr>\n",
       "        <tr>\n",
       "            <td>7</td>\n",
       "            <td>release_year</td>\n",
       "            <td>INTEGER</td>\n",
       "            <td>0</td>\n",
       "            <td>None</td>\n",
       "            <td>0</td>\n",
       "        </tr>\n",
       "        <tr>\n",
       "            <td>8</td>\n",
       "            <td>rating</td>\n",
       "            <td>TEXT</td>\n",
       "            <td>0</td>\n",
       "            <td>None</td>\n",
       "            <td>0</td>\n",
       "        </tr>\n",
       "        <tr>\n",
       "            <td>9</td>\n",
       "            <td>duration</td>\n",
       "            <td>TEXT</td>\n",
       "            <td>0</td>\n",
       "            <td>None</td>\n",
       "            <td>0</td>\n",
       "        </tr>\n",
       "        <tr>\n",
       "            <td>10</td>\n",
       "            <td>listed_in</td>\n",
       "            <td>TEXT</td>\n",
       "            <td>0</td>\n",
       "            <td>None</td>\n",
       "            <td>0</td>\n",
       "        </tr>\n",
       "        <tr>\n",
       "            <td>11</td>\n",
       "            <td>description</td>\n",
       "            <td>TEXT</td>\n",
       "            <td>0</td>\n",
       "            <td>None</td>\n",
       "            <td>0</td>\n",
       "        </tr>\n",
       "    </tbody>\n",
       "</table>"
      ],
      "text/plain": [
       "[(0, 'show_id', 'TEXT', 0, None, 0),\n",
       " (1, 'type', 'TEXT', 0, None, 0),\n",
       " (2, 'title', 'TEXT', 0, None, 0),\n",
       " (3, 'director', 'TEXT', 0, None, 0),\n",
       " (4, 'cast', 'TEXT', 0, None, 0),\n",
       " (5, 'country', 'TEXT', 0, None, 0),\n",
       " (6, 'date_added', 'TEXT', 0, None, 0),\n",
       " (7, 'release_year', 'INTEGER', 0, None, 0),\n",
       " (8, 'rating', 'TEXT', 0, None, 0),\n",
       " (9, 'duration', 'TEXT', 0, None, 0),\n",
       " (10, 'listed_in', 'TEXT', 0, None, 0),\n",
       " (11, 'description', 'TEXT', 0, None, 0)]"
      ]
     },
     "execution_count": 11,
     "metadata": {},
     "output_type": "execute_result"
    }
   ],
   "source": [
    "# checking the promary keys. We find there are no primary keys - so I will delete the useless \"False\" column and make show_id the main one.\n",
    "%sql PRAGMA table_info(netflix)"
   ]
  },
  {
   "cell_type": "code",
   "execution_count": 12,
   "id": "9fcbbc35-5c35-44ac-96da-edd0558b5a1d",
   "metadata": {},
   "outputs": [
    {
     "name": "stdout",
     "output_type": "stream",
     "text": [
      " * sqlite:///netflix.db\n",
      "Done.\n"
     ]
    },
    {
     "data": {
      "text/html": [
       "<table>\n",
       "    <thead>\n",
       "        <tr>\n",
       "            <th>show_id</th>\n",
       "            <th>count(*)</th>\n",
       "        </tr>\n",
       "    </thead>\n",
       "    <tbody>\n",
       "    </tbody>\n",
       "</table>"
      ],
      "text/plain": [
       "[]"
      ]
     },
     "execution_count": 12,
     "metadata": {},
     "output_type": "execute_result"
    }
   ],
   "source": [
    "# show_id is supposed to be the unique identifier - hence we need to check if there are any repeating values\n",
    "%sql select show_id, count(*) from netflix group by show_id having count(*) > 1 limit 5\n",
    "\n",
    "# no duplicates"
   ]
  },
  {
   "cell_type": "code",
   "execution_count": 25,
   "id": "5b440ca8-426f-45ab-a479-d8acd9949d2a",
   "metadata": {},
   "outputs": [
    {
     "name": "stdout",
     "output_type": "stream",
     "text": [
      " * sqlite:///netflix.db\n",
      "Done.\n"
     ]
    },
    {
     "data": {
      "text/html": [
       "<table>\n",
       "    <thead>\n",
       "        <tr>\n",
       "            <th>column</th>\n",
       "            <th>null_count</th>\n",
       "        </tr>\n",
       "    </thead>\n",
       "    <tbody>\n",
       "        <tr>\n",
       "            <td>cast</td>\n",
       "            <td>825</td>\n",
       "        </tr>\n",
       "        <tr>\n",
       "            <td>date_added</td>\n",
       "            <td>10</td>\n",
       "        </tr>\n",
       "        <tr>\n",
       "            <td>rating</td>\n",
       "            <td>4</td>\n",
       "        </tr>\n",
       "        <tr>\n",
       "            <td>duration</td>\n",
       "            <td>3</td>\n",
       "        </tr>\n",
       "    </tbody>\n",
       "</table>"
      ],
      "text/plain": [
       "[('cast', 825), ('date_added', 10), ('rating', 4), ('duration', 3)]"
      ]
     },
     "execution_count": 25,
     "metadata": {},
     "output_type": "execute_result"
    }
   ],
   "source": [
    "%%sql\n",
    "--# Checking for nulls\n",
    "\n",
    "with null_table as\n",
    "(SELECT 'type' as column,         SUM(`type`       IS NULL) as null_count FROM netflix\n",
    "  UNION ALL SELECT 'cast',         SUM(`cast`       IS NULL) FROM netflix\n",
    "  UNION ALL SELECT 'show_id',      SUM(show_id      IS NULL) FROM netflix\n",
    "  UNION ALL SELECT 'title',        SUM(title        IS NULL) FROM netflix\n",
    "  UNION ALL SELECT 'director',     SUM(director     IS NULL) FROM netflix\n",
    "  UNION ALL SELECT 'country',      SUM(country      IS NULL) FROM netflix\n",
    "  UNION ALL SELECT 'date_added',   SUM(date_added   IS NULL) FROM netflix\n",
    "  UNION ALL SELECT 'release_year', SUM(release_year IS NULL) FROM netflix\n",
    "  UNION ALL SELECT 'rating',       SUM(rating       IS NULL) FROM netflix\n",
    "  UNION ALL SELECT 'duration',     SUM(duration     IS NULL) FROM netflix\n",
    "  UNION ALL SELECT 'listed_in',    SUM(listed_in    IS NULL) FROM netflix\n",
    "  UNION ALL SELECT 'description',  SUM(description  IS NULL) FROM netflix)\n",
    "\n",
    "select * from null_table where null_count > 0 order by null_count DESC\n",
    "\n"
   ]
  },
  {
   "cell_type": "code",
   "execution_count": 17,
   "id": "de16b511-b54c-4a26-b0f9-db47ea998a2f",
   "metadata": {
    "scrolled": true
   },
   "outputs": [
    {
     "name": "stdout",
     "output_type": "stream",
     "text": [
      " * sqlite:///netflix.db\n",
      "Done.\n"
     ]
    },
    {
     "data": {
      "text/html": [
       "<table>\n",
       "    <thead>\n",
       "        <tr>\n",
       "            <th>direct_cast</th>\n",
       "            <th>instances</th>\n",
       "        </tr>\n",
       "    </thead>\n",
       "    <tbody>\n",
       "        <tr>\n",
       "            <td>---</td>\n",
       "            <td>352</td>\n",
       "        </tr>\n",
       "        <tr>\n",
       "            <td>---David Attenborough</td>\n",
       "            <td>15</td>\n",
       "        </tr>\n",
       "        <tr>\n",
       "            <td>Rajiv Chilaka---Vatsal Dubey, Julie Tejwani, Rupa Bhimani, Jigna Bhardwaj, Rajesh Kava, Mousam, Swapnil</td>\n",
       "            <td>12</td>\n",
       "        </tr>\n",
       "        <tr>\n",
       "            <td>---David Spade, London Hughes, Fortune Feimster</td>\n",
       "            <td>6</td>\n",
       "        </tr>\n",
       "        <tr>\n",
       "            <td>---Michela Luci, Jamie Watson, Eric Peterson, Anna Claire Bartlam, Nicolas Aqui, Cory Doran, Julie Lemieux, Derek McGrath</td>\n",
       "            <td>5</td>\n",
       "        </tr>\n",
       "        <tr>\n",
       "            <td>S.S. Rajamouli---Prabhas, Rana Daggubati, Anushka Shetty, Tamannaah Bhatia, Sathyaraj, Nassar, Ramya Krishnan, Sudeep</td>\n",
       "            <td>4</td>\n",
       "        </tr>\n",
       "        <tr>\n",
       "            <td>Rathindran R Prasad---Aishwarya Rajesh, Vidhu, Surya Ganapathy, Madhuri, Pavel Navageethan, Avantika Vandanapu</td>\n",
       "            <td>4</td>\n",
       "        </tr>\n",
       "        <tr>\n",
       "            <td>Hernán Zin---</td>\n",
       "            <td>4</td>\n",
       "        </tr>\n",
       "        <tr>\n",
       "            <td>---Michela Luci, Jamie Watson, Anna Claire Bartlam, Dante Zee, Eric Peterson</td>\n",
       "            <td>4</td>\n",
       "        </tr>\n",
       "        <tr>\n",
       "            <td>Walter C. Miller---Sam Kinison</td>\n",
       "            <td>3</td>\n",
       "        </tr>\n",
       "        <tr>\n",
       "            <td>Tiller Russell---</td>\n",
       "            <td>3</td>\n",
       "        </tr>\n",
       "        <tr>\n",
       "            <td>Suhas Kadav---</td>\n",
       "            <td>3</td>\n",
       "        </tr>\n",
       "        <tr>\n",
       "            <td>Stan Lathan---Dave Chappelle</td>\n",
       "            <td>3</td>\n",
       "        </tr>\n",
       "        <tr>\n",
       "            <td>S.S. Rajamouli---Prabhas, Rana Daggubati, Anushka Shetty, Tamannaah Bhatia, Sathyaraj, Ramya Krishnan, Nassar, Subbaraju</td>\n",
       "            <td>3</td>\n",
       "        </tr>\n",
       "        <tr>\n",
       "            <td>Prakash Satam---</td>\n",
       "            <td>3</td>\n",
       "        </tr>\n",
       "        <tr>\n",
       "            <td>Orlando von Einsiedel---</td>\n",
       "            <td>3</td>\n",
       "        </tr>\n",
       "        <tr>\n",
       "            <td>Louis C.K.---Louis C.K.</td>\n",
       "            <td>3</td>\n",
       "        </tr>\n",
       "        <tr>\n",
       "            <td>Jay Karas---Bill Burr</td>\n",
       "            <td>3</td>\n",
       "        </tr>\n",
       "        <tr>\n",
       "            <td>Edward Cotterill---Rachael Stirling</td>\n",
       "            <td>3</td>\n",
       "        </tr>\n",
       "        <tr>\n",
       "            <td>Cosima Spender---</td>\n",
       "            <td>3</td>\n",
       "        </tr>\n",
       "        <tr>\n",
       "            <td>B. V. Nandini Reddy---Samantha Ruth Prabhu, Lakshmi, Rajendraprasad, Naga Shourya, Rao Ramesh, Teja Sajja, Pragathi, Jagapathi Babu, Aishwarya, Urvashi</td>\n",
       "            <td>3</td>\n",
       "        </tr>\n",
       "        <tr>\n",
       "            <td>Ashwin Saravanan---Taapsee Pannu, Vinodhini, Parvathi T, Ramya Subramanian, Sanchana Natarajan, Anish Kuruvilla, David Solomon Raja</td>\n",
       "            <td>3</td>\n",
       "        </tr>\n",
       "        <tr>\n",
       "            <td>Alastair Fothergill---David Attenborough</td>\n",
       "            <td>3</td>\n",
       "        </tr>\n",
       "        <tr>\n",
       "            <td>---Stephen Fry, Alex Marty</td>\n",
       "            <td>3</td>\n",
       "        </tr>\n",
       "        <tr>\n",
       "            <td>---R. Kelly</td>\n",
       "            <td>3</td>\n",
       "        </tr>\n",
       "        <tr>\n",
       "            <td>---Nadia Ramlee, Chio Su-Ping, Jeremy Linn, Marlon Dance-Hooi</td>\n",
       "            <td>3</td>\n",
       "        </tr>\n",
       "        <tr>\n",
       "            <td>---Derren Brown</td>\n",
       "            <td>3</td>\n",
       "        </tr>\n",
       "        <tr>\n",
       "            <td>Yoshiyuki Tomino, Yoshikazu Yasuhiko---Toru Furuya, Shuichi Ikeda, Hirotaka Suzuoki, Rumiko Ukai, Fuyumi Shiraishi, Yo Inoue, Toshio Furukawa, Kiyonobu Suzuki, Keiko Toda, Shozo Iizuka</td>\n",
       "            <td>2</td>\n",
       "        </tr>\n",
       "        <tr>\n",
       "            <td>Will Yapp---Graham Chapman, Eric Idle, Terry Jones, Michael Palin, Terry Gilliam, John Cleese</td>\n",
       "            <td>2</td>\n",
       "        </tr>\n",
       "        <tr>\n",
       "            <td>Werner Herzog---Werner Herzog</td>\n",
       "            <td>2</td>\n",
       "        </tr>\n",
       "        <tr>\n",
       "            <td>Vlad Yudin---</td>\n",
       "            <td>2</td>\n",
       "        </tr>\n",
       "        <tr>\n",
       "            <td>Vicky Matthews---Samuel West</td>\n",
       "            <td>2</td>\n",
       "        </tr>\n",
       "        <tr>\n",
       "            <td>V Vignarajan---Vinoth Kishan, Arjun Das, Pooja Ramachandran, Kumar Natarajan, Misha Ghoshal, Arul Vincent, Chenthu Mohan, Pradeep Kalipurayath</td>\n",
       "            <td>2</td>\n",
       "        </tr>\n",
       "        <tr>\n",
       "            <td>Ulises Valencia---Franco Escamilla</td>\n",
       "            <td>2</td>\n",
       "        </tr>\n",
       "        <tr>\n",
       "            <td>Troy Miller---Brian Regan</td>\n",
       "            <td>2</td>\n",
       "        </tr>\n",
       "        <tr>\n",
       "            <td>Trivikram Srinivas---Allu Arjun, Pooja Hegde, Tabu, Sushanth, Nivetha Pethuraj, Jayaram, Murli Sharma</td>\n",
       "            <td>2</td>\n",
       "        </tr>\n",
       "        <tr>\n",
       "            <td>Toshiya Shinohara---Kappei Yamaguchi, Satsuki Yukino, Koji Tsujitani, Houko Kuwashima, Kumiko Watanabe, Ken Narita, Akio Otsuka, Kikuko Inoue</td>\n",
       "            <td>2</td>\n",
       "        </tr>\n",
       "        <tr>\n",
       "            <td>Swapnaneel Jayakar---Rahul Pethe, Mrunmayee Deshpande, Adinath Kothare, Vaibhav Mangale, Jaywant Wadkar, Satish Pulekar, Naina Apte, Uday Tikekar</td>\n",
       "            <td>2</td>\n",
       "        </tr>\n",
       "        <tr>\n",
       "            <td>Susannah Ward---Samuel West</td>\n",
       "            <td>2</td>\n",
       "        </tr>\n",
       "        <tr>\n",
       "            <td>Suhas Kadav---Saurav Chakraborty</td>\n",
       "            <td>2</td>\n",
       "        </tr>\n",
       "        <tr>\n",
       "            <td>Steven Bognar, Julia Reichert---</td>\n",
       "            <td>2</td>\n",
       "        </tr>\n",
       "        <tr>\n",
       "            <td>Steve Paley---Iliza Shlesinger</td>\n",
       "            <td>2</td>\n",
       "        </tr>\n",
       "        <tr>\n",
       "            <td>Sion Sono---Kippei Shiina, Shinnosuke Mitsushima, Kyooko Hinami, Eri Kamataki, Young Dais, Natsuki Kawamura, Yuzuka Nakaya, Dai Hasegawa, Chiho Fujii, Sei Matobu, Denden</td>\n",
       "            <td>2</td>\n",
       "        </tr>\n",
       "        <tr>\n",
       "            <td>Shannon Hartman---Kevin Hart</td>\n",
       "            <td>2</td>\n",
       "        </tr>\n",
       "        <tr>\n",
       "            <td>Shannon Hartman---Jo Koy</td>\n",
       "            <td>2</td>\n",
       "        </tr>\n",
       "        <tr>\n",
       "            <td>Shalini Kantayya---</td>\n",
       "            <td>2</td>\n",
       "        </tr>\n",
       "        <tr>\n",
       "            <td>Seth Barrish---Mike Birbiglia</td>\n",
       "            <td>2</td>\n",
       "        </tr>\n",
       "        <tr>\n",
       "            <td>Sekhar Kammula---Nayantara, Vaibhav Reddy, Pasupathy, Harshvardhan Rane, Thagubothu Ramesh, Vinay Varma, Dheer Charan Srivastav, D. Narsingh Rao</td>\n",
       "            <td>2</td>\n",
       "        </tr>\n",
       "        <tr>\n",
       "            <td>Scott Zabielski---Jim Jefferies</td>\n",
       "            <td>2</td>\n",
       "        </tr>\n",
       "        <tr>\n",
       "            <td>Sam Taplin---Samuel West</td>\n",
       "            <td>2</td>\n",
       "        </tr>\n",
       "        <tr>\n",
       "            <td>Sam Hobkinson---</td>\n",
       "            <td>2</td>\n",
       "        </tr>\n",
       "        <tr>\n",
       "            <td>Ron Myrick---Jeannie Elias, Kat Feller, Sandy Fox, Cindy Robinson, Richard Rosenblatt</td>\n",
       "            <td>2</td>\n",
       "        </tr>\n",
       "        <tr>\n",
       "            <td>Ron Howard---Alden Ehrenreich, Woody Harrelson, Emilia Clarke, Donald Glover, Joonas Suotamo, Thandie Newton, Phoebe Waller-Bridge, Paul Bettany</td>\n",
       "            <td>2</td>\n",
       "        </tr>\n",
       "        <tr>\n",
       "            <td>Raúl Campos, Jan Suter---Sofía Niño de Rivera</td>\n",
       "            <td>2</td>\n",
       "        </tr>\n",
       "        <tr>\n",
       "            <td>Rajiv Menon---G.V. Prakash Kumar, Nedumudi Venu, Aparna Balamurali, Divyadarshini, Vineeth, Kumaravel, Ravi Prakash, Sumesh</td>\n",
       "            <td>2</td>\n",
       "        </tr>\n",
       "        <tr>\n",
       "            <td>Rajiv Chilaka---Vatsal Dubey, Julie Tejwani, Rupa Bhimani, Jigna Bhardwaj, Rajesh Kava, Arun Shekher, Sanchit Wartak</td>\n",
       "            <td>2</td>\n",
       "        </tr>\n",
       "        <tr>\n",
       "            <td>Rajiv Chilaka---</td>\n",
       "            <td>2</td>\n",
       "        </tr>\n",
       "        <tr>\n",
       "            <td>Petra Costa---</td>\n",
       "            <td>2</td>\n",
       "        </tr>\n",
       "        <tr>\n",
       "            <td>Paul Greengrass---Anders Danielsen Lie, Jon Øigarden, Jonas Strand Gravli, Ola G. Furuseth, Maria Bock, Thorbjørn Harr, Jaden Smith</td>\n",
       "            <td>2</td>\n",
       "        </tr>\n",
       "        <tr>\n",
       "            <td>Ozan Açıktan---Nehir Erdoğan, Tardu Flordun, İlker Kaleli, Serkan Keskin, Esra Bezen Bilgin, Aytaç Uşun, Cem Özeren, Caner Arçkan</td>\n",
       "            <td>2</td>\n",
       "        </tr>\n",
       "        <tr>\n",
       "            <td>Oliver Twinch---Craig Sechler</td>\n",
       "            <td>2</td>\n",
       "        </tr>\n",
       "        <tr>\n",
       "            <td>Momoko Kamiya---</td>\n",
       "            <td>2</td>\n",
       "        </tr>\n",
       "        <tr>\n",
       "            <td>Mike Gunther---Will Yun Lee, Jermaine Love, Rory Markham, Bertrand-Xavier Corbi, Katie Keene, Fernando Chien, Gina DeCesare, Michael Blalock, Chris Mulkey, Stephen Lang</td>\n",
       "            <td>2</td>\n",
       "        </tr>\n",
       "        <tr>\n",
       "            <td>Michèle Ohayon---</td>\n",
       "            <td>2</td>\n",
       "        </tr>\n",
       "        <tr>\n",
       "            <td>Michael Simon---Jeff Dunham</td>\n",
       "            <td>2</td>\n",
       "        </tr>\n",
       "        <tr>\n",
       "            <td>Matías Gueilburt---Paco Ignacio Taibo II</td>\n",
       "            <td>2</td>\n",
       "        </tr>\n",
       "        <tr>\n",
       "            <td>Masahiko Murata---Junko Takeuchi, Chie Nakamura, Rikiya Koyama, Kazuhiko Inoue, Masaki Terasoma, Mie Sonozaki, Yuichi Nakamura, Kengo Kawanishi, Kosei Hirota, Masako Katsuki</td>\n",
       "            <td>2</td>\n",
       "        </tr>\n",
       "        <tr>\n",
       "            <td>Marcus Raboy---Vir Das</td>\n",
       "            <td>2</td>\n",
       "        </tr>\n",
       "        <tr>\n",
       "            <td>Manny Rodriguez---Jeff Dunham</td>\n",
       "            <td>2</td>\n",
       "        </tr>\n",
       "        <tr>\n",
       "            <td>Manny Rodriguez---Gabriel Iglesias</td>\n",
       "            <td>2</td>\n",
       "        </tr>\n",
       "        <tr>\n",
       "            <td>Lynn Shelton---Marc Maron</td>\n",
       "            <td>2</td>\n",
       "        </tr>\n",
       "        <tr>\n",
       "            <td>Luis Ara---</td>\n",
       "            <td>2</td>\n",
       "        </tr>\n",
       "        <tr>\n",
       "            <td>Leslie Small---Kevin Hart</td>\n",
       "            <td>2</td>\n",
       "        </tr>\n",
       "        <tr>\n",
       "            <td>Leslie Small, Tim Story---Kevin Hart</td>\n",
       "            <td>2</td>\n",
       "        </tr>\n",
       "        <tr>\n",
       "            <td>Laura Brownson---</td>\n",
       "            <td>2</td>\n",
       "        </tr>\n",
       "        <tr>\n",
       "            <td>Lance Bangs---Jen Kirkman</td>\n",
       "            <td>2</td>\n",
       "        </tr>\n",
       "        <tr>\n",
       "            <td>Kobun Shizuno, Hiroyuki Seshita---Mamoru Miyano, Takahiro Sakurai, Kana Hanazawa, Tomokazu Sugita, Yuki Kaji, Junichi Suwabe, Reina Ueda, Ari Ozawa, Daisuke Ono, Kenta Miyake, Kenyu Horiuchi, Kazuya Nakai, Kazuhiro Yamaji</td>\n",
       "            <td>2</td>\n",
       "        </tr>\n",
       "        <tr>\n",
       "            <td>Kingsley Ogoro---Nkem Owoh, Mara Derwent, Francis Odega, Cynthia Okereke, Tom Njemanze, Romanus Amuta, Sabina Mole, Blessing Onolleka, Oluchi Agunwa, Chiwendu Onaga, Patricia Ezeani, Stephen Ahanonu</td>\n",
       "            <td>2</td>\n",
       "        </tr>\n",
       "        <tr>\n",
       "            <td>Kim A. Snyder---</td>\n",
       "            <td>2</td>\n",
       "        </tr>\n",
       "        <tr>\n",
       "            <td>Kevin Layne---Sommore</td>\n",
       "            <td>2</td>\n",
       "        </tr>\n",
       "        <tr>\n",
       "            <td>Kasia Uscinska---Samuel West</td>\n",
       "            <td>2</td>\n",
       "        </tr>\n",
       "        <tr>\n",
       "            <td>Karthik Subbaraj---Rajnikanth, Vijay Sethupathi, M. Sasikumar, Nawazuddin Siddiqui, Trisha Krishnan, Simran</td>\n",
       "            <td>2</td>\n",
       "        </tr>\n",
       "        <tr>\n",
       "            <td>Justin Webster---</td>\n",
       "            <td>2</td>\n",
       "        </tr>\n",
       "        <tr>\n",
       "            <td>Jose Manuel Colón---</td>\n",
       "            <td>2</td>\n",
       "        </tr>\n",
       "        <tr>\n",
       "            <td>John Huston---</td>\n",
       "            <td>2</td>\n",
       "        </tr>\n",
       "        <tr>\n",
       "            <td>Jerry Rothwell---</td>\n",
       "            <td>2</td>\n",
       "        </tr>\n",
       "        <tr>\n",
       "            <td>Jay Karas---Tom Segura</td>\n",
       "            <td>2</td>\n",
       "        </tr>\n",
       "        <tr>\n",
       "            <td>Jay Karas---Ali Wong</td>\n",
       "            <td>2</td>\n",
       "        </tr>\n",
       "        <tr>\n",
       "            <td>Jay Chapman---D.L. Hughley</td>\n",
       "            <td>2</td>\n",
       "        </tr>\n",
       "        <tr>\n",
       "            <td>Jacob Kornbluth---Robert Reich</td>\n",
       "            <td>2</td>\n",
       "        </tr>\n",
       "        <tr>\n",
       "            <td>George Ford---</td>\n",
       "            <td>2</td>\n",
       "        </tr>\n",
       "        <tr>\n",
       "            <td>Federico Lemos---</td>\n",
       "            <td>2</td>\n",
       "        </tr>\n",
       "        <tr>\n",
       "            <td>Everardo González---</td>\n",
       "            <td>2</td>\n",
       "        </tr>\n",
       "        <tr>\n",
       "            <td>Estela Renner---</td>\n",
       "            <td>2</td>\n",
       "        </tr>\n",
       "        <tr>\n",
       "            <td>Elaine McMillion Sheldon---</td>\n",
       "            <td>2</td>\n",
       "        </tr>\n",
       "        <tr>\n",
       "            <td>Eduardo Chauvet---</td>\n",
       "            <td>2</td>\n",
       "        </tr>\n",
       "        <tr>\n",
       "            <td>Delhiprasad Deenadayalan---Vijay Sethupathi, Parthiban, Raashi Khanna</td>\n",
       "            <td>2</td>\n",
       "        </tr>\n",
       "        <tr>\n",
       "            <td>David Paul Meyer---Trevor Noah</td>\n",
       "            <td>2</td>\n",
       "        </tr>\n",
       "        <tr>\n",
       "            <td>Dave Higby---Russell Peters</td>\n",
       "            <td>2</td>\n",
       "        </tr>\n",
       "        <tr>\n",
       "            <td>Chris Bould---Bill Hicks</td>\n",
       "            <td>2</td>\n",
       "        </tr>\n",
       "    </tbody>\n",
       "</table>"
      ],
      "text/plain": [
       "[('---', 352),\n",
       " ('---David Attenborough', 15),\n",
       " ('Rajiv Chilaka---Vatsal Dubey, Julie Tejwani, Rupa Bhimani, Jigna Bhardwaj, Rajesh Kava, Mousam, Swapnil', 12),\n",
       " ('---David Spade, London Hughes, Fortune Feimster', 6),\n",
       " ('---Michela Luci, Jamie Watson, Eric Peterson, Anna Claire Bartlam, Nicolas Aqui, Cory Doran, Julie Lemieux, Derek McGrath', 5),\n",
       " ('S.S. Rajamouli---Prabhas, Rana Daggubati, Anushka Shetty, Tamannaah Bhatia, Sathyaraj, Nassar, Ramya Krishnan, Sudeep', 4),\n",
       " ('Rathindran R Prasad---Aishwarya Rajesh, Vidhu, Surya Ganapathy, Madhuri, Pavel Navageethan, Avantika Vandanapu', 4),\n",
       " ('Hernán Zin---', 4),\n",
       " ('---Michela Luci, Jamie Watson, Anna Claire Bartlam, Dante Zee, Eric Peterson', 4),\n",
       " ('Walter C. Miller---Sam Kinison', 3),\n",
       " ('Tiller Russell---', 3),\n",
       " ('Suhas Kadav---', 3),\n",
       " ('Stan Lathan---Dave Chappelle', 3),\n",
       " ('S.S. Rajamouli---Prabhas, Rana Daggubati, Anushka Shetty, Tamannaah Bhatia, Sathyaraj, Ramya Krishnan, Nassar, Subbaraju', 3),\n",
       " ('Prakash Satam---', 3),\n",
       " ('Orlando von Einsiedel---', 3),\n",
       " ('Louis C.K.---Louis C.K.', 3),\n",
       " ('Jay Karas---Bill Burr', 3),\n",
       " ('Edward Cotterill---Rachael Stirling', 3),\n",
       " ('Cosima Spender---', 3),\n",
       " ('B. V. Nandini Reddy---Samantha Ruth Prabhu, Lakshmi, Rajendraprasad, Naga Shourya, Rao Ramesh, Teja Sajja, Pragathi, Jagapathi Babu, Aishwarya, Urvashi', 3),\n",
       " ('Ashwin Saravanan---Taapsee Pannu, Vinodhini, Parvathi T, Ramya Subramanian, Sanchana Natarajan, Anish Kuruvilla, David Solomon Raja', 3),\n",
       " ('Alastair Fothergill---David Attenborough', 3),\n",
       " ('---Stephen Fry, Alex Marty', 3),\n",
       " ('---R. Kelly', 3),\n",
       " ('---Nadia Ramlee, Chio Su-Ping, Jeremy Linn, Marlon Dance-Hooi', 3),\n",
       " ('---Derren Brown', 3),\n",
       " ('Yoshiyuki Tomino, Yoshikazu Yasuhiko---Toru Furuya, Shuichi Ikeda, Hirotaka Suzuoki, Rumiko Ukai, Fuyumi Shiraishi, Yo Inoue, Toshio Furukawa, Kiyonobu Suzuki, Keiko Toda, Shozo Iizuka', 2),\n",
       " ('Will Yapp---Graham Chapman, Eric Idle, Terry Jones, Michael Palin, Terry Gilliam, John Cleese', 2),\n",
       " ('Werner Herzog---Werner Herzog', 2),\n",
       " ('Vlad Yudin---', 2),\n",
       " ('Vicky Matthews---Samuel West', 2),\n",
       " ('V Vignarajan---Vinoth Kishan, Arjun Das, Pooja Ramachandran, Kumar Natarajan, Misha Ghoshal, Arul Vincent, Chenthu Mohan, Pradeep Kalipurayath', 2),\n",
       " ('Ulises Valencia---Franco Escamilla', 2),\n",
       " ('Troy Miller---Brian Regan', 2),\n",
       " ('Trivikram Srinivas---Allu Arjun, Pooja Hegde, Tabu, Sushanth, Nivetha Pethuraj, Jayaram, Murli Sharma', 2),\n",
       " ('Toshiya Shinohara---Kappei Yamaguchi, Satsuki Yukino, Koji Tsujitani, Houko Kuwashima, Kumiko Watanabe, Ken Narita, Akio Otsuka, Kikuko Inoue', 2),\n",
       " ('Swapnaneel Jayakar---Rahul Pethe, Mrunmayee Deshpande, Adinath Kothare, Vaibhav Mangale, Jaywant Wadkar, Satish Pulekar, Naina Apte, Uday Tikekar', 2),\n",
       " ('Susannah Ward---Samuel West', 2),\n",
       " ('Suhas Kadav---Saurav Chakraborty', 2),\n",
       " ('Steven Bognar, Julia Reichert---', 2),\n",
       " ('Steve Paley---Iliza Shlesinger', 2),\n",
       " ('Sion Sono---Kippei Shiina, Shinnosuke Mitsushima, Kyooko Hinami, Eri Kamataki, Young Dais, Natsuki Kawamura, Yuzuka Nakaya, Dai Hasegawa, Chiho Fujii, Sei Matobu, Denden', 2),\n",
       " ('Shannon Hartman---Kevin Hart', 2),\n",
       " ('Shannon Hartman---Jo Koy', 2),\n",
       " ('Shalini Kantayya---', 2),\n",
       " ('Seth Barrish---Mike Birbiglia', 2),\n",
       " ('Sekhar Kammula---Nayantara, Vaibhav Reddy, Pasupathy, Harshvardhan Rane, Thagubothu Ramesh, Vinay Varma, Dheer Charan Srivastav, D. Narsingh Rao', 2),\n",
       " ('Scott Zabielski---Jim Jefferies', 2),\n",
       " ('Sam Taplin---Samuel West', 2),\n",
       " ('Sam Hobkinson---', 2),\n",
       " ('Ron Myrick---Jeannie Elias, Kat Feller, Sandy Fox, Cindy Robinson, Richard Rosenblatt', 2),\n",
       " ('Ron Howard---Alden Ehrenreich, Woody Harrelson, Emilia Clarke, Donald Glover, Joonas Suotamo, Thandie Newton, Phoebe Waller-Bridge, Paul Bettany', 2),\n",
       " ('Raúl Campos, Jan Suter---Sofía Niño de Rivera', 2),\n",
       " ('Rajiv Menon---G.V. Prakash Kumar, Nedumudi Venu, Aparna Balamurali, Divyadarshini, Vineeth, Kumaravel, Ravi Prakash, Sumesh', 2),\n",
       " ('Rajiv Chilaka---Vatsal Dubey, Julie Tejwani, Rupa Bhimani, Jigna Bhardwaj, Rajesh Kava, Arun Shekher, Sanchit Wartak', 2),\n",
       " ('Rajiv Chilaka---', 2),\n",
       " ('Petra Costa---', 2),\n",
       " ('Paul Greengrass---Anders Danielsen Lie, Jon Øigarden, Jonas Strand Gravli, Ola G. Furuseth, Maria Bock, Thorbjørn Harr, Jaden Smith', 2),\n",
       " ('Ozan Açıktan---Nehir Erdoğan, Tardu Flordun, İlker Kaleli, Serkan Keskin, Esra Bezen Bilgin, Aytaç Uşun, Cem Özeren, Caner Arçkan', 2),\n",
       " ('Oliver Twinch---Craig Sechler', 2),\n",
       " ('Momoko Kamiya---', 2),\n",
       " ('Mike Gunther---Will Yun Lee, Jermaine Love, Rory Markham, Bertrand-Xavier Corbi, Katie Keene, Fernando Chien, Gina DeCesare, Michael Blalock, Chris Mulkey, Stephen Lang', 2),\n",
       " ('Michèle Ohayon---', 2),\n",
       " ('Michael Simon---Jeff Dunham', 2),\n",
       " ('Matías Gueilburt---Paco Ignacio Taibo II', 2),\n",
       " ('Masahiko Murata---Junko Takeuchi, Chie Nakamura, Rikiya Koyama, Kazuhiko Inoue, Masaki Terasoma, Mie Sonozaki, Yuichi Nakamura, Kengo Kawanishi, Kosei Hirota, Masako Katsuki', 2),\n",
       " ('Marcus Raboy---Vir Das', 2),\n",
       " ('Manny Rodriguez---Jeff Dunham', 2),\n",
       " ('Manny Rodriguez---Gabriel Iglesias', 2),\n",
       " ('Lynn Shelton---Marc Maron', 2),\n",
       " ('Luis Ara---', 2),\n",
       " ('Leslie Small---Kevin Hart', 2),\n",
       " ('Leslie Small, Tim Story---Kevin Hart', 2),\n",
       " ('Laura Brownson---', 2),\n",
       " ('Lance Bangs---Jen Kirkman', 2),\n",
       " ('Kobun Shizuno, Hiroyuki Seshita---Mamoru Miyano, Takahiro Sakurai, Kana Hanazawa, Tomokazu Sugita, Yuki Kaji, Junichi Suwabe, Reina Ueda, Ari Ozawa, Daisuke Ono, Kenta Miyake, Kenyu Horiuchi, Kazuya Nakai, Kazuhiro Yamaji', 2),\n",
       " ('Kingsley Ogoro---Nkem Owoh, Mara Derwent, Francis Odega, Cynthia Okereke, Tom Njemanze, Romanus Amuta, Sabina Mole, Blessing Onolleka, Oluchi Agunwa, Chiwendu Onaga, Patricia Ezeani, Stephen Ahanonu', 2),\n",
       " ('Kim A. Snyder---', 2),\n",
       " ('Kevin Layne---Sommore', 2),\n",
       " ('Kasia Uscinska---Samuel West', 2),\n",
       " ('Karthik Subbaraj---Rajnikanth, Vijay Sethupathi, M. Sasikumar, Nawazuddin Siddiqui, Trisha Krishnan, Simran', 2),\n",
       " ('Justin Webster---', 2),\n",
       " ('Jose Manuel Colón---', 2),\n",
       " ('John Huston---', 2),\n",
       " ('Jerry Rothwell---', 2),\n",
       " ('Jay Karas---Tom Segura', 2),\n",
       " ('Jay Karas---Ali Wong', 2),\n",
       " ('Jay Chapman---D.L. Hughley', 2),\n",
       " ('Jacob Kornbluth---Robert Reich', 2),\n",
       " ('George Ford---', 2),\n",
       " ('Federico Lemos---', 2),\n",
       " ('Everardo González---', 2),\n",
       " ('Estela Renner---', 2),\n",
       " ('Elaine McMillion Sheldon---', 2),\n",
       " ('Eduardo Chauvet---', 2),\n",
       " ('Delhiprasad Deenadayalan---Vijay Sethupathi, Parthiban, Raashi Khanna', 2),\n",
       " ('David Paul Meyer---Trevor Noah', 2),\n",
       " ('Dave Higby---Russell Peters', 2),\n",
       " ('Chris Bould---Bill Hicks', 2)]"
      ]
     },
     "execution_count": 17,
     "metadata": {},
     "output_type": "execute_result"
    }
   ],
   "source": [
    "%%sql\n",
    "--# to find out if some directors are likely to work with some cast to update the director names where possible    \n",
    "\n",
    "with directs(movie, direct_cast) AS\n",
    "(select title, concat(director, '---', `cast`) from netflix)\n",
    "select direct_cast, count(*) as instances from directs \n",
    "group by direct_cast having instances > 1 order by count(*) DESC limit 100              "
   ]
  },
  {
   "cell_type": "code",
   "execution_count": 18,
   "id": "1b2ea79c-6125-47b4-8f57-3559ceacc57f",
   "metadata": {},
   "outputs": [
    {
     "name": "stdout",
     "output_type": "stream",
     "text": [
      " * sqlite:///netflix.db\n",
      "Done.\n"
     ]
    },
    {
     "data": {
      "text/html": [
       "<table>\n",
       "    <thead>\n",
       "        <tr>\n",
       "            <th>title</th>\n",
       "            <th>director</th>\n",
       "            <th>cast</th>\n",
       "        </tr>\n",
       "    </thead>\n",
       "    <tbody>\n",
       "        <tr>\n",
       "            <td>Chhota Bheem</td>\n",
       "            <td>None</td>\n",
       "            <td>Vatsal Dubey, Julie Tejwani, Rupa Bhimani, Jigna Bhardwaj, Rajesh Kava, Mousam, Swapnil</td>\n",
       "        </tr>\n",
       "        <tr>\n",
       "            <td>Chhota Bheem - Neeli Pahaadi</td>\n",
       "            <td>Rajiv Chilaka</td>\n",
       "            <td>Vatsal Dubey, Julie Tejwani, Rupa Bhimani, Jigna Bhardwaj, Rajesh Kava, Mousam, Swapnil</td>\n",
       "        </tr>\n",
       "        <tr>\n",
       "            <td>Chhota Bheem &amp; Ganesh</td>\n",
       "            <td>Rajiv Chilaka</td>\n",
       "            <td>Vatsal Dubey, Julie Tejwani, Rupa Bhimani, Jigna Bhardwaj, Rajesh Kava, Mousam, Swapnil</td>\n",
       "        </tr>\n",
       "        <tr>\n",
       "            <td>Chhota Bheem &amp; Krishna: Mayanagari</td>\n",
       "            <td>Rajiv Chilaka</td>\n",
       "            <td>Vatsal Dubey, Julie Tejwani, Rupa Bhimani, Jigna Bhardwaj, Rajesh Kava, Mousam, Swapnil</td>\n",
       "        </tr>\n",
       "        <tr>\n",
       "            <td>Chhota Bheem &amp; Krishna: Pataliputra- City of the Dead</td>\n",
       "            <td>Rajiv Chilaka</td>\n",
       "            <td>Vatsal Dubey, Julie Tejwani, Rupa Bhimani, Jigna Bhardwaj, Rajesh Kava, Arun Shekher, Sanchit Wartak</td>\n",
       "        </tr>\n",
       "        <tr>\n",
       "            <td>Chhota Bheem And The Broken Amulet</td>\n",
       "            <td>Rajiv Chilaka</td>\n",
       "            <td>Vatsal Dubey, Julie Tejwani, Rupa Bhimani, Jigna Bhardwaj, Rajesh Kava, Mousam, Swapnil</td>\n",
       "        </tr>\n",
       "        <tr>\n",
       "            <td>Chhota Bheem And The Crown of Valhalla</td>\n",
       "            <td>Rajiv Chilaka</td>\n",
       "            <td>Vatsal Dubey, Julie Tejwani, Rupa Bhimani, Jigna Bhardwaj, Rajesh Kava, Mousam, Swapnil</td>\n",
       "        </tr>\n",
       "        <tr>\n",
       "            <td>Chhota Bheem and the Incan Adventure</td>\n",
       "            <td>Rajiv Chilaka</td>\n",
       "            <td>Vatsal Dubey, Julie Tejwani, Rupa Bhimani, Jigna Bhardwaj, Rajesh Kava, Mousam, Swapnil</td>\n",
       "        </tr>\n",
       "        <tr>\n",
       "            <td>Chhota Bheem and The ShiNobi Secret</td>\n",
       "            <td>Rajiv Chilaka</td>\n",
       "            <td>Vatsal Dubey, Julie Tejwani, Rupa Bhimani, Jigna Bhardwaj, Rajesh Kava, Mousam, Swapnil</td>\n",
       "        </tr>\n",
       "        <tr>\n",
       "            <td>Chhota Bheem Aur Hanuman</td>\n",
       "            <td>Rajiv Chilaka</td>\n",
       "            <td>Vatsal Dubey, Julie Tejwani, Rupa Bhimani, Jigna Bhardwaj, Rajesh Kava, Mousam, Swapnil</td>\n",
       "        </tr>\n",
       "        <tr>\n",
       "            <td>Chhota Bheem aur Krishna</td>\n",
       "            <td>Rajiv Chilaka</td>\n",
       "            <td>Vatsal Dubey, Julie Tejwani, Rupa Bhimani, Jigna Bhardwaj, Rajesh Kava, Arun Shekher, Sanchit Wartak</td>\n",
       "        </tr>\n",
       "        <tr>\n",
       "            <td>Chhota Bheem aur Krishna vs Zimbara</td>\n",
       "            <td>Rajiv Chilaka</td>\n",
       "            <td>Vatsal Dubey, Julie Tejwani, Rupa Bhimani, Jigna Bhardwaj, Rajesh Kava, Mousam, Swapnil</td>\n",
       "        </tr>\n",
       "        <tr>\n",
       "            <td>Chhota Bheem: Bheem vs Aliens</td>\n",
       "            <td>Rajiv Chilaka</td>\n",
       "            <td>Vatsal Dubey, Julie Tejwani, Rupa Bhimani, Jigna Bhardwaj, Rajesh Kava, Mousam, Swapnil</td>\n",
       "        </tr>\n",
       "        <tr>\n",
       "            <td>Chhota Bheem: Dholakpur to Kathmandu</td>\n",
       "            <td>Rajiv Chilaka</td>\n",
       "            <td>Vatsal Dubey, Julie Tejwani, Rupa Bhimani, Jigna Bhardwaj, Rajesh Kava, Mousam, Swapnil</td>\n",
       "        </tr>\n",
       "        <tr>\n",
       "            <td>Chhota Bheem: Dus Pe Dus</td>\n",
       "            <td>Rajiv Chilaka, Owll Mina</td>\n",
       "            <td>Vatsal Dubey, Julie Tejwani, Rupa Bhimani, Jigna Bhardwaj, Rajesh Kava, Mousam, Swapnil</td>\n",
       "        </tr>\n",
       "        <tr>\n",
       "            <td>Chhota Bheem: Journey to Petra</td>\n",
       "            <td>Rajiv Chilaka</td>\n",
       "            <td>Vatsal Dubey, Julie Tejwani, Rupa Bhimani, Jigna Bhardwaj, Rajesh Kava</td>\n",
       "        </tr>\n",
       "        <tr>\n",
       "            <td>Chhota Bheem: The Rise of Kirmada</td>\n",
       "            <td>Rajiv Chilaka</td>\n",
       "            <td>Vatsal Dubey, Julie Tejwani, Rupa Bhimani, Jigna Bhardwaj, Rajesh Kava, Mousam, Swapnil</td>\n",
       "        </tr>\n",
       "        <tr>\n",
       "            <td>Krishna Balram</td>\n",
       "            <td>None</td>\n",
       "            <td>Vatsal Dubey, Julie Tejwani, Rupa Bhimani, Jigna Bhardwaj, Arun Shekher, Sanchit Wartak, Sharda Agnihotri, Ashok Sonawane, Joy Mukherjee</td>\n",
       "        </tr>\n",
       "    </tbody>\n",
       "</table>"
      ],
      "text/plain": [
       "[('Chhota Bheem', None, 'Vatsal Dubey, Julie Tejwani, Rupa Bhimani, Jigna Bhardwaj, Rajesh Kava, Mousam, Swapnil'),\n",
       " ('Chhota Bheem - Neeli Pahaadi', 'Rajiv Chilaka', 'Vatsal Dubey, Julie Tejwani, Rupa Bhimani, Jigna Bhardwaj, Rajesh Kava, Mousam, Swapnil'),\n",
       " ('Chhota Bheem & Ganesh', 'Rajiv Chilaka', 'Vatsal Dubey, Julie Tejwani, Rupa Bhimani, Jigna Bhardwaj, Rajesh Kava, Mousam, Swapnil'),\n",
       " ('Chhota Bheem & Krishna: Mayanagari', 'Rajiv Chilaka', 'Vatsal Dubey, Julie Tejwani, Rupa Bhimani, Jigna Bhardwaj, Rajesh Kava, Mousam, Swapnil'),\n",
       " ('Chhota Bheem & Krishna: Pataliputra- City of the Dead', 'Rajiv Chilaka', 'Vatsal Dubey, Julie Tejwani, Rupa Bhimani, Jigna Bhardwaj, Rajesh Kava, Arun Shekher, Sanchit Wartak'),\n",
       " ('Chhota Bheem And The Broken Amulet', 'Rajiv Chilaka', 'Vatsal Dubey, Julie Tejwani, Rupa Bhimani, Jigna Bhardwaj, Rajesh Kava, Mousam, Swapnil'),\n",
       " ('Chhota Bheem And The Crown of Valhalla', 'Rajiv Chilaka', 'Vatsal Dubey, Julie Tejwani, Rupa Bhimani, Jigna Bhardwaj, Rajesh Kava, Mousam, Swapnil'),\n",
       " ('Chhota Bheem and the Incan Adventure', 'Rajiv Chilaka', 'Vatsal Dubey, Julie Tejwani, Rupa Bhimani, Jigna Bhardwaj, Rajesh Kava, Mousam, Swapnil'),\n",
       " ('Chhota Bheem and The ShiNobi Secret', 'Rajiv Chilaka', 'Vatsal Dubey, Julie Tejwani, Rupa Bhimani, Jigna Bhardwaj, Rajesh Kava, Mousam, Swapnil'),\n",
       " ('Chhota Bheem Aur Hanuman', 'Rajiv Chilaka', 'Vatsal Dubey, Julie Tejwani, Rupa Bhimani, Jigna Bhardwaj, Rajesh Kava, Mousam, Swapnil'),\n",
       " ('Chhota Bheem aur Krishna', 'Rajiv Chilaka', 'Vatsal Dubey, Julie Tejwani, Rupa Bhimani, Jigna Bhardwaj, Rajesh Kava, Arun Shekher, Sanchit Wartak'),\n",
       " ('Chhota Bheem aur Krishna vs Zimbara', 'Rajiv Chilaka', 'Vatsal Dubey, Julie Tejwani, Rupa Bhimani, Jigna Bhardwaj, Rajesh Kava, Mousam, Swapnil'),\n",
       " ('Chhota Bheem: Bheem vs Aliens', 'Rajiv Chilaka', 'Vatsal Dubey, Julie Tejwani, Rupa Bhimani, Jigna Bhardwaj, Rajesh Kava, Mousam, Swapnil'),\n",
       " ('Chhota Bheem: Dholakpur to Kathmandu', 'Rajiv Chilaka', 'Vatsal Dubey, Julie Tejwani, Rupa Bhimani, Jigna Bhardwaj, Rajesh Kava, Mousam, Swapnil'),\n",
       " ('Chhota Bheem: Dus Pe Dus', 'Rajiv Chilaka, Owll Mina', 'Vatsal Dubey, Julie Tejwani, Rupa Bhimani, Jigna Bhardwaj, Rajesh Kava, Mousam, Swapnil'),\n",
       " ('Chhota Bheem: Journey to Petra', 'Rajiv Chilaka', 'Vatsal Dubey, Julie Tejwani, Rupa Bhimani, Jigna Bhardwaj, Rajesh Kava'),\n",
       " ('Chhota Bheem: The Rise of Kirmada', 'Rajiv Chilaka', 'Vatsal Dubey, Julie Tejwani, Rupa Bhimani, Jigna Bhardwaj, Rajesh Kava, Mousam, Swapnil'),\n",
       " ('Krishna Balram', None, 'Vatsal Dubey, Julie Tejwani, Rupa Bhimani, Jigna Bhardwaj, Arun Shekher, Sanchit Wartak, Sharda Agnihotri, Ashok Sonawane, Joy Mukherjee')]"
      ]
     },
     "execution_count": 18,
     "metadata": {},
     "output_type": "execute_result"
    }
   ],
   "source": [
    "%%sql\n",
    "--# Let's look into the most common correspondances and check if there are cases with missing directors\n",
    "--# then we will update the missing ones where the correspondance is sure\n",
    "select title, director, `cast` from netflix where `cast` like '%Vatsal Dubey, Julie Tejwani, Rupa Bhimani%'"
   ]
  },
  {
   "cell_type": "code",
   "execution_count": 19,
   "id": "ea7fa3ac-98ad-4b86-baf5-65fbc9ecda55",
   "metadata": {},
   "outputs": [
    {
     "name": "stdout",
     "output_type": "stream",
     "text": [
      " * sqlite:///netflix.db\n",
      "2 rows affected.\n"
     ]
    },
    {
     "data": {
      "text/plain": [
       "[]"
      ]
     },
     "execution_count": 19,
     "metadata": {},
     "output_type": "execute_result"
    }
   ],
   "source": [
    "# one of those cases where exact same cast has the same director. so we can update a few nulls\n",
    "%sql update netflix SET director ='Rajiv Chilaka' where `cast` like '%Vatsal Dubey, Julie Tejwani%' and director is null"
   ]
  },
  {
   "cell_type": "code",
   "execution_count": 20,
   "id": "cec507b7-19ca-43b9-9624-beb9cebd1f20",
   "metadata": {},
   "outputs": [
    {
     "name": "stdout",
     "output_type": "stream",
     "text": [
      " * sqlite:///netflix.db\n",
      "2632 rows affected.\n",
      " * sqlite:///netflix.db\n",
      "Done.\n"
     ]
    },
    {
     "data": {
      "text/html": [
       "<table>\n",
       "    <thead>\n",
       "        <tr>\n",
       "            <th>count(*)</th>\n",
       "        </tr>\n",
       "    </thead>\n",
       "    <tbody>\n",
       "        <tr>\n",
       "            <td>0</td>\n",
       "        </tr>\n",
       "    </tbody>\n",
       "</table>"
      ],
      "text/plain": [
       "[(0,)]"
      ]
     },
     "execution_count": 20,
     "metadata": {},
     "output_type": "execute_result"
    }
   ],
   "source": [
    "# the other cases of director - cast don't look connected so we update the other directors to \"not known\" below\n",
    "%sql update netflix set director = 'Not Given' where director is null;\n",
    "# to make sure no longer any null values for directors\n",
    "%sql select count(*) from netflix where director is null"
   ]
  },
  {
   "cell_type": "code",
   "execution_count": 21,
   "id": "068a1f7f-8d99-446b-8caa-176c92b5456a",
   "metadata": {},
   "outputs": [
    {
     "name": "stdout",
     "output_type": "stream",
     "text": [
      " * sqlite:///netflix.db\n",
      "Done.\n"
     ]
    },
    {
     "data": {
      "text/html": [
       "<table>\n",
       "    <thead>\n",
       "        <tr>\n",
       "            <th>cid</th>\n",
       "            <th>name</th>\n",
       "            <th>type</th>\n",
       "            <th>notnull</th>\n",
       "            <th>dflt_value</th>\n",
       "            <th>pk</th>\n",
       "        </tr>\n",
       "    </thead>\n",
       "    <tbody>\n",
       "        <tr>\n",
       "            <td>0</td>\n",
       "            <td>show_id</td>\n",
       "            <td>TEXT</td>\n",
       "            <td>0</td>\n",
       "            <td>None</td>\n",
       "            <td>0</td>\n",
       "        </tr>\n",
       "        <tr>\n",
       "            <td>1</td>\n",
       "            <td>type</td>\n",
       "            <td>TEXT</td>\n",
       "            <td>0</td>\n",
       "            <td>None</td>\n",
       "            <td>0</td>\n",
       "        </tr>\n",
       "        <tr>\n",
       "            <td>2</td>\n",
       "            <td>title</td>\n",
       "            <td>TEXT</td>\n",
       "            <td>0</td>\n",
       "            <td>None</td>\n",
       "            <td>0</td>\n",
       "        </tr>\n",
       "        <tr>\n",
       "            <td>3</td>\n",
       "            <td>director</td>\n",
       "            <td>TEXT</td>\n",
       "            <td>0</td>\n",
       "            <td>None</td>\n",
       "            <td>0</td>\n",
       "        </tr>\n",
       "        <tr>\n",
       "            <td>4</td>\n",
       "            <td>cast</td>\n",
       "            <td>TEXT</td>\n",
       "            <td>0</td>\n",
       "            <td>None</td>\n",
       "            <td>0</td>\n",
       "        </tr>\n",
       "        <tr>\n",
       "            <td>5</td>\n",
       "            <td>country</td>\n",
       "            <td>TEXT</td>\n",
       "            <td>0</td>\n",
       "            <td>None</td>\n",
       "            <td>0</td>\n",
       "        </tr>\n",
       "        <tr>\n",
       "            <td>6</td>\n",
       "            <td>date_added</td>\n",
       "            <td>TEXT</td>\n",
       "            <td>0</td>\n",
       "            <td>None</td>\n",
       "            <td>0</td>\n",
       "        </tr>\n",
       "        <tr>\n",
       "            <td>7</td>\n",
       "            <td>release_year</td>\n",
       "            <td>INTEGER</td>\n",
       "            <td>0</td>\n",
       "            <td>None</td>\n",
       "            <td>0</td>\n",
       "        </tr>\n",
       "        <tr>\n",
       "            <td>8</td>\n",
       "            <td>rating</td>\n",
       "            <td>TEXT</td>\n",
       "            <td>0</td>\n",
       "            <td>None</td>\n",
       "            <td>0</td>\n",
       "        </tr>\n",
       "        <tr>\n",
       "            <td>9</td>\n",
       "            <td>duration</td>\n",
       "            <td>TEXT</td>\n",
       "            <td>0</td>\n",
       "            <td>None</td>\n",
       "            <td>0</td>\n",
       "        </tr>\n",
       "        <tr>\n",
       "            <td>10</td>\n",
       "            <td>listed_in</td>\n",
       "            <td>TEXT</td>\n",
       "            <td>0</td>\n",
       "            <td>None</td>\n",
       "            <td>0</td>\n",
       "        </tr>\n",
       "        <tr>\n",
       "            <td>11</td>\n",
       "            <td>description</td>\n",
       "            <td>TEXT</td>\n",
       "            <td>0</td>\n",
       "            <td>None</td>\n",
       "            <td>0</td>\n",
       "        </tr>\n",
       "    </tbody>\n",
       "</table>"
      ],
      "text/plain": [
       "[(0, 'show_id', 'TEXT', 0, None, 0),\n",
       " (1, 'type', 'TEXT', 0, None, 0),\n",
       " (2, 'title', 'TEXT', 0, None, 0),\n",
       " (3, 'director', 'TEXT', 0, None, 0),\n",
       " (4, 'cast', 'TEXT', 0, None, 0),\n",
       " (5, 'country', 'TEXT', 0, None, 0),\n",
       " (6, 'date_added', 'TEXT', 0, None, 0),\n",
       " (7, 'release_year', 'INTEGER', 0, None, 0),\n",
       " (8, 'rating', 'TEXT', 0, None, 0),\n",
       " (9, 'duration', 'TEXT', 0, None, 0),\n",
       " (10, 'listed_in', 'TEXT', 0, None, 0),\n",
       " (11, 'description', 'TEXT', 0, None, 0)]"
      ]
     },
     "execution_count": 21,
     "metadata": {},
     "output_type": "execute_result"
    }
   ],
   "source": [
    "%sql PRAGMA table_info(netflix)"
   ]
  },
  {
   "cell_type": "markdown",
   "id": "9f6f6e5a-b5f0-49e8-9fc0-683cd3a24680",
   "metadata": {},
   "source": [
    "## cleaning nulls of countries\n",
    "(i) We will check the directors, county couples with the number of times they used the country as a location. <br>\n",
    "(ii) Then we will order the country_numbers for each director from 1 to ..., with 1 being the most common country for a dir. <br>\n",
    "(iii) Then we will only choose the cases where director filmed in no1 country at least twice. <br>\n",
    "(iv) Afterwards, we will update the nulls of countries corresponding to the directors that have a favorite country."
   ]
  },
  {
   "cell_type": "code",
   "execution_count": 22,
   "id": "a84957bc-5999-459e-ad4a-f8704e7e1179",
   "metadata": {
    "scrolled": true
   },
   "outputs": [
    {
     "name": "stdout",
     "output_type": "stream",
     "text": [
      " * sqlite:///netflix.db\n",
      "Done.\n",
      "Done.\n"
     ]
    },
    {
     "data": {
      "text/plain": [
       "[]"
      ]
     },
     "execution_count": 22,
     "metadata": {},
     "output_type": "execute_result"
    }
   ],
   "source": [
    "%%sql\n",
    "--# below a table is created with the corresponding most often used countries\n",
    "drop table if exists countries_to_update;\n",
    "create table countries_to_update as\n",
    "with counts_direct as (\n",
    "  SELECT\n",
    "    director,\n",
    "    country,\n",
    "    COUNT(*) AS country_count\n",
    "  FROM\n",
    "    netflix\n",
    "  WHERE\n",
    "    director IS NOT NULL AND country IS NOT NULL and director !='Not Given'\n",
    "  GROUP BY\n",
    "    director, country order by country_count desc),\n",
    "    \n",
    "ranked_counts as (\n",
    "    select director, country, country_count, \n",
    "row_number() over(partition by director order by country_count) as country_rank \n",
    "from counts_direct order by country_count DESC\n",
    ")\n",
    "\n",
    "select director, country as most_used_country from ranked_counts where country_rank = 1 and country_count > 1"
   ]
  },
  {
   "cell_type": "code",
   "execution_count": 23,
   "id": "72a307a5-af00-4db0-bd24-77a9f2927165",
   "metadata": {
    "scrolled": true
   },
   "outputs": [
    {
     "name": "stdout",
     "output_type": "stream",
     "text": [
      " * sqlite:///netflix.db\n",
      "53 rows affected.\n"
     ]
    },
    {
     "data": {
      "text/plain": [
       "[]"
      ]
     },
     "execution_count": 23,
     "metadata": {},
     "output_type": "execute_result"
    }
   ],
   "source": [
    "%%sql\n",
    "--# using the new table 'most_used_country' to update the countries in netflix\n",
    "update netflix as n\n",
    "set country = ctu.most_used_country \n",
    "from countries_to_update as ctu\n",
    "where n.director = ctu.director and n.country is null"
   ]
  },
  {
   "cell_type": "code",
   "execution_count": 24,
   "id": "138301d0-667f-4720-8583-fa22aa075375",
   "metadata": {},
   "outputs": [
    {
     "name": "stdout",
     "output_type": "stream",
     "text": [
      " * sqlite:///netflix.db\n",
      "778 rows affected.\n"
     ]
    },
    {
     "data": {
      "text/plain": [
       "[]"
      ]
     },
     "execution_count": 24,
     "metadata": {},
     "output_type": "execute_result"
    }
   ],
   "source": [
    "%%sql\n",
    "--# for the rest of the countries we put 'Not Given'\n",
    "update netflix set country = \"Not Given\" where country is Null"
   ]
  },
  {
   "cell_type": "markdown",
   "id": "bc0b6020-de9a-44d3-8f2d-a25c295e0bfd",
   "metadata": {},
   "source": [
    "## dealing with the rest of the nulls\n",
    "(i) As cast is irrelevant for the analysis, we will delete the column. <br>\n",
    "(ii) Next we will drop the rows for 'delete_added', 'rating', 'duration' because those are very few and won't affect analysis."
   ]
  },
  {
   "cell_type": "code",
   "execution_count": 34,
   "id": "88b8e632-0906-40f8-ad0e-b0697eceb357",
   "metadata": {},
   "outputs": [
    {
     "name": "stdout",
     "output_type": "stream",
     "text": [
      " * sqlite:///netflix.db\n",
      "(sqlite3.OperationalError) no such column: \"`description`\"\n",
      "[SQL: --# remove the cast and description\n",
      "alter table netflix drop `description`;]\n",
      "(Background on this error at: https://sqlalche.me/e/20/e3q8)\n"
     ]
    }
   ],
   "source": [
    "%%sql \n",
    "--# remove the cast and description\n",
    "alter table netflix drop `description`;\n",
    "alter table netflix drop `cast`;"
   ]
  },
  {
   "cell_type": "code",
   "execution_count": 35,
   "id": "dc38820c-2d76-4600-9641-73c3187e55ff",
   "metadata": {},
   "outputs": [
    {
     "name": "stdout",
     "output_type": "stream",
     "text": [
      " * sqlite:///netflix.db\n",
      "0 rows affected.\n"
     ]
    },
    {
     "data": {
      "text/plain": [
       "[]"
      ]
     },
     "execution_count": 35,
     "metadata": {},
     "output_type": "execute_result"
    }
   ],
   "source": [
    "%%sql\n",
    "delete from netflix\n",
    "where date_added is null or rating is null or duration is null"
   ]
  },
  {
   "cell_type": "code",
   "execution_count": 36,
   "id": "d22c65ab-4387-4e36-a6d8-d8398fc3fb92",
   "metadata": {
    "scrolled": true
   },
   "outputs": [
    {
     "name": "stdout",
     "output_type": "stream",
     "text": [
      " * sqlite:///netflix.db\n",
      "Done.\n"
     ]
    },
    {
     "data": {
      "text/html": [
       "<table>\n",
       "    <thead>\n",
       "        <tr>\n",
       "            <th>column</th>\n",
       "            <th>null_count</th>\n",
       "        </tr>\n",
       "    </thead>\n",
       "    <tbody>\n",
       "        <tr>\n",
       "            <td>Movie</td>\n",
       "            <td>0</td>\n",
       "        </tr>\n",
       "        <tr>\n",
       "            <td>show_id</td>\n",
       "            <td>0</td>\n",
       "        </tr>\n",
       "        <tr>\n",
       "            <td>title</td>\n",
       "            <td>0</td>\n",
       "        </tr>\n",
       "        <tr>\n",
       "            <td>director</td>\n",
       "            <td>0</td>\n",
       "        </tr>\n",
       "        <tr>\n",
       "            <td>country</td>\n",
       "            <td>0</td>\n",
       "        </tr>\n",
       "        <tr>\n",
       "            <td>date_added</td>\n",
       "            <td>0</td>\n",
       "        </tr>\n",
       "        <tr>\n",
       "            <td>release_year</td>\n",
       "            <td>0</td>\n",
       "        </tr>\n",
       "        <tr>\n",
       "            <td>rating</td>\n",
       "            <td>0</td>\n",
       "        </tr>\n",
       "        <tr>\n",
       "            <td>duration</td>\n",
       "            <td>0</td>\n",
       "        </tr>\n",
       "        <tr>\n",
       "            <td>listed_in</td>\n",
       "            <td>0</td>\n",
       "        </tr>\n",
       "    </tbody>\n",
       "</table>"
      ],
      "text/plain": [
       "[('Movie', 0),\n",
       " ('show_id', 0),\n",
       " ('title', 0),\n",
       " ('director', 0),\n",
       " ('country', 0),\n",
       " ('date_added', 0),\n",
       " ('release_year', 0),\n",
       " ('rating', 0),\n",
       " ('duration', 0),\n",
       " ('listed_in', 0)]"
      ]
     },
     "execution_count": 36,
     "metadata": {},
     "output_type": "execute_result"
    }
   ],
   "source": [
    "%%sql\n",
    "--# checking and seeing that there are no more nulls left\n",
    "SELECT `type` as column,         SUM(`type`       IS NULL) as null_count FROM netflix\n",
    "  UNION ALL SELECT 'show_id',      SUM(show_id      IS NULL) FROM netflix\n",
    "  UNION ALL SELECT 'title',        SUM(title        IS NULL) FROM netflix\n",
    "  UNION ALL SELECT 'director',     SUM(director     IS NULL) FROM netflix\n",
    "  UNION ALL SELECT 'country',      SUM(country      IS NULL) FROM netflix\n",
    "  UNION ALL SELECT 'date_added',   SUM(date_added   IS NULL) FROM netflix\n",
    "  UNION ALL SELECT 'release_year', SUM(release_year IS NULL) FROM netflix\n",
    "  UNION ALL SELECT 'rating',       SUM(rating       IS NULL) FROM netflix\n",
    "  UNION ALL SELECT 'duration',     SUM(duration     IS NULL) FROM netflix\n",
    "  UNION ALL SELECT 'listed_in',    SUM(listed_in    IS NULL) FROM netflix;"
   ]
  },
  {
   "cell_type": "markdown",
   "id": "483af430-cf11-4fb9-a089-04edf02874d8",
   "metadata": {},
   "source": [
    "## primary key added\n",
    "No pk in the original table. We add it to the \"id\" column"
   ]
  },
  {
   "cell_type": "code",
   "execution_count": 39,
   "id": "4123577c-60ae-47db-9d2d-0dd1ca327362",
   "metadata": {},
   "outputs": [
    {
     "name": "stdout",
     "output_type": "stream",
     "text": [
      " * sqlite:///netflix.db\n",
      "Done.\n",
      "Done.\n",
      "Done.\n",
      "Done.\n",
      "8790 rows affected.\n"
     ]
    },
    {
     "data": {
      "text/plain": [
       "[]"
      ]
     },
     "execution_count": 39,
     "metadata": {},
     "output_type": "execute_result"
    }
   ],
   "source": [
    "%%sql\n",
    "-- # adding a primary key to the table\n",
    "drop table if exists netflix_old;\n",
    "alter table netflix rename to netflix_old;\n",
    "\n",
    "drop table if exists netflix;\n",
    "\n",
    "CREATE TABLE netflix (\n",
    "    id INTEGER PRIMARY KEY AUTOINCREMENT,\n",
    "    show_id TEXT,\n",
    "    type TEXT,\n",
    "    title TEXT,\n",
    "    director TEXT,\n",
    "    country TEXT,\n",
    "    date_added TEXT,\n",
    "    release_year INTEGER,\n",
    "    rating TEXT,\n",
    "    duration TEXT,\n",
    "    listed_in TEXT\n",
    ");\n",
    "\n",
    "insert into netflix(show_id, type, title, director, country, date_added, release_year, rating, duration, listed_in)\n",
    "select show_id, type, title, director, country, date_added, release_year, rating, duration, listed_in from netflix_old"
   ]
  },
  {
   "cell_type": "code",
   "execution_count": 40,
   "id": "35f51433-22a7-4f97-827e-ab24ae4dd594",
   "metadata": {},
   "outputs": [
    {
     "name": "stdout",
     "output_type": "stream",
     "text": [
      " * sqlite:///netflix.db\n",
      "Done.\n"
     ]
    },
    {
     "data": {
      "text/html": [
       "<table>\n",
       "    <thead>\n",
       "        <tr>\n",
       "            <th>cid</th>\n",
       "            <th>name</th>\n",
       "            <th>type</th>\n",
       "            <th>notnull</th>\n",
       "            <th>dflt_value</th>\n",
       "            <th>pk</th>\n",
       "        </tr>\n",
       "    </thead>\n",
       "    <tbody>\n",
       "        <tr>\n",
       "            <td>0</td>\n",
       "            <td>id</td>\n",
       "            <td>INTEGER</td>\n",
       "            <td>0</td>\n",
       "            <td>None</td>\n",
       "            <td>1</td>\n",
       "        </tr>\n",
       "        <tr>\n",
       "            <td>1</td>\n",
       "            <td>show_id</td>\n",
       "            <td>TEXT</td>\n",
       "            <td>0</td>\n",
       "            <td>None</td>\n",
       "            <td>0</td>\n",
       "        </tr>\n",
       "        <tr>\n",
       "            <td>2</td>\n",
       "            <td>type</td>\n",
       "            <td>TEXT</td>\n",
       "            <td>0</td>\n",
       "            <td>None</td>\n",
       "            <td>0</td>\n",
       "        </tr>\n",
       "        <tr>\n",
       "            <td>3</td>\n",
       "            <td>title</td>\n",
       "            <td>TEXT</td>\n",
       "            <td>0</td>\n",
       "            <td>None</td>\n",
       "            <td>0</td>\n",
       "        </tr>\n",
       "        <tr>\n",
       "            <td>4</td>\n",
       "            <td>director</td>\n",
       "            <td>TEXT</td>\n",
       "            <td>0</td>\n",
       "            <td>None</td>\n",
       "            <td>0</td>\n",
       "        </tr>\n",
       "        <tr>\n",
       "            <td>5</td>\n",
       "            <td>country</td>\n",
       "            <td>TEXT</td>\n",
       "            <td>0</td>\n",
       "            <td>None</td>\n",
       "            <td>0</td>\n",
       "        </tr>\n",
       "        <tr>\n",
       "            <td>6</td>\n",
       "            <td>date_added</td>\n",
       "            <td>TEXT</td>\n",
       "            <td>0</td>\n",
       "            <td>None</td>\n",
       "            <td>0</td>\n",
       "        </tr>\n",
       "        <tr>\n",
       "            <td>7</td>\n",
       "            <td>release_year</td>\n",
       "            <td>INTEGER</td>\n",
       "            <td>0</td>\n",
       "            <td>None</td>\n",
       "            <td>0</td>\n",
       "        </tr>\n",
       "        <tr>\n",
       "            <td>8</td>\n",
       "            <td>rating</td>\n",
       "            <td>TEXT</td>\n",
       "            <td>0</td>\n",
       "            <td>None</td>\n",
       "            <td>0</td>\n",
       "        </tr>\n",
       "        <tr>\n",
       "            <td>9</td>\n",
       "            <td>duration</td>\n",
       "            <td>TEXT</td>\n",
       "            <td>0</td>\n",
       "            <td>None</td>\n",
       "            <td>0</td>\n",
       "        </tr>\n",
       "        <tr>\n",
       "            <td>10</td>\n",
       "            <td>listed_in</td>\n",
       "            <td>TEXT</td>\n",
       "            <td>0</td>\n",
       "            <td>None</td>\n",
       "            <td>0</td>\n",
       "        </tr>\n",
       "    </tbody>\n",
       "</table>"
      ],
      "text/plain": [
       "[(0, 'id', 'INTEGER', 0, None, 1),\n",
       " (1, 'show_id', 'TEXT', 0, None, 0),\n",
       " (2, 'type', 'TEXT', 0, None, 0),\n",
       " (3, 'title', 'TEXT', 0, None, 0),\n",
       " (4, 'director', 'TEXT', 0, None, 0),\n",
       " (5, 'country', 'TEXT', 0, None, 0),\n",
       " (6, 'date_added', 'TEXT', 0, None, 0),\n",
       " (7, 'release_year', 'INTEGER', 0, None, 0),\n",
       " (8, 'rating', 'TEXT', 0, None, 0),\n",
       " (9, 'duration', 'TEXT', 0, None, 0),\n",
       " (10, 'listed_in', 'TEXT', 0, None, 0)]"
      ]
     },
     "execution_count": 40,
     "metadata": {},
     "output_type": "execute_result"
    }
   ],
   "source": [
    "%%sql \n",
    "--# verifying the primary key\n",
    "PRAGMA table_info(netflix)"
   ]
  },
  {
   "cell_type": "markdown",
   "id": "e0d0d1ce-18e7-40ea-a40a-fdfdaad57b1c",
   "metadata": {},
   "source": [
    "## cleaning the \"country\" part\n",
    "Below we make a many-to-many relationship between shows and countries. <br>\n",
    "We make a table with just countries with their unique code first."
   ]
  },
  {
   "cell_type": "code",
   "execution_count": 41,
   "id": "178d1f1d-6e0f-4bc7-bbf7-b3a1643f7202",
   "metadata": {},
   "outputs": [
    {
     "name": "stdout",
     "output_type": "stream",
     "text": [
      " * sqlite:///netflix.db\n",
      "Done.\n"
     ]
    },
    {
     "data": {
      "text/html": [
       "<table>\n",
       "    <thead>\n",
       "        <tr>\n",
       "            <th>count(country)</th>\n",
       "        </tr>\n",
       "    </thead>\n",
       "    <tbody>\n",
       "        <tr>\n",
       "            <td>1320</td>\n",
       "        </tr>\n",
       "    </tbody>\n",
       "</table>"
      ],
      "text/plain": [
       "[(1320,)]"
      ]
     },
     "execution_count": 41,
     "metadata": {},
     "output_type": "execute_result"
    }
   ],
   "source": [
    "%%sql\n",
    "--# Checking the number of movies shot in several countries\n",
    "select count(country) from netflix where country like \"%,%\" ;"
   ]
  },
  {
   "cell_type": "code",
   "execution_count": 42,
   "id": "601a766c-3507-4704-9cb0-fab1a60d545c",
   "metadata": {},
   "outputs": [
    {
     "name": "stdout",
     "output_type": "stream",
     "text": [
      " * sqlite:///netflix.db\n",
      "Done.\n"
     ]
    },
    {
     "data": {
      "text/html": [
       "<table>\n",
       "    <thead>\n",
       "        <tr>\n",
       "            <th>country</th>\n",
       "        </tr>\n",
       "    </thead>\n",
       "    <tbody>\n",
       "    </tbody>\n",
       "</table>"
      ],
      "text/plain": [
       "[]"
      ]
     },
     "execution_count": 42,
     "metadata": {},
     "output_type": "execute_result"
    }
   ],
   "source": [
    "%%sql\n",
    "--# checking for any other character to make sure that the countries are only seperated by a standard comma.\n",
    "SELECT distinct(country)\n",
    "FROM netflix where country glob '*[^A-Za-z0-9 ,]*';"
   ]
  },
  {
   "cell_type": "code",
   "execution_count": 43,
   "id": "afe8dcc6-76d9-4fd1-a528-38f14464a575",
   "metadata": {},
   "outputs": [
    {
     "name": "stdout",
     "output_type": "stream",
     "text": [
      " * sqlite:///netflix.db\n",
      "Done.\n",
      "Done.\n"
     ]
    },
    {
     "data": {
      "text/plain": [
       "[]"
      ]
     },
     "execution_count": 43,
     "metadata": {},
     "output_type": "execute_result"
    }
   ],
   "source": [
    "%%sql\n",
    "drop table if exists countries;\n",
    "create table countries (id INTEGER PRIMARY KEY AUTOINCREMENT,\n",
    "                       country varchar not null unique);"
   ]
  },
  {
   "cell_type": "code",
   "execution_count": 44,
   "id": "11df899e-f562-4156-9ef6-5ff3b52d804c",
   "metadata": {},
   "outputs": [
    {
     "name": "stdout",
     "output_type": "stream",
     "text": [
      " * sqlite:///netflix.db\n",
      "Done.\n"
     ]
    },
    {
     "data": {
      "text/html": [
       "<table>\n",
       "    <thead>\n",
       "        <tr>\n",
       "            <th>cid</th>\n",
       "            <th>name</th>\n",
       "            <th>type</th>\n",
       "            <th>notnull</th>\n",
       "            <th>dflt_value</th>\n",
       "            <th>pk</th>\n",
       "        </tr>\n",
       "    </thead>\n",
       "    <tbody>\n",
       "        <tr>\n",
       "            <td>0</td>\n",
       "            <td>id</td>\n",
       "            <td>INTEGER</td>\n",
       "            <td>0</td>\n",
       "            <td>None</td>\n",
       "            <td>1</td>\n",
       "        </tr>\n",
       "        <tr>\n",
       "            <td>1</td>\n",
       "            <td>country</td>\n",
       "            <td>varchar</td>\n",
       "            <td>1</td>\n",
       "            <td>None</td>\n",
       "            <td>0</td>\n",
       "        </tr>\n",
       "    </tbody>\n",
       "</table>"
      ],
      "text/plain": [
       "[(0, 'id', 'INTEGER', 0, None, 1), (1, 'country', 'varchar', 1, None, 0)]"
      ]
     },
     "execution_count": 44,
     "metadata": {},
     "output_type": "execute_result"
    }
   ],
   "source": [
    "%sql PRAGMA table_info(countries)"
   ]
  },
  {
   "cell_type": "code",
   "execution_count": 114,
   "id": "907e89ee-4c44-4b0e-96d3-d09cc238c423",
   "metadata": {},
   "outputs": [
    {
     "name": "stdout",
     "output_type": "stream",
     "text": [
      " * sqlite:///netflix.db\n",
      "(sqlite3.OperationalError) no such column: country\n",
      "[SQL: --# below I will make a new table with all the countries listed. I will use recursive formula for it.\n",
      "--# the logic goes as follows - countries_table is a recursive temporary table - we first choose the first column to consist only\n",
      "--# the first country by choosing only the characters up to the first \",\". Second column are all the other countries after the first \",\"\n",
      "--# Next we apply recursive formula where we select from this newly created temp. table countries_table with the same logic as decribed.\n",
      "--# this makes a new table with the exact same structure. We \"UNION ALL\" both tables. This process of the second recursive table continues\n",
      "--# until all second column components adre NULL. We also keep the ID from the original netflix table next to the countries.\n",
      "--# This implies that the first col of the table are the movie id's which can be repeated if the film was shot in diff. countries.\n",
      "--# and the single_country column shows the unique countries for each show\n",
      "WITH recursive countries_table as (\n",
      "    select id, \n",
      "    case \n",
      "        when instr(country, ',') > 0 then TRIM(substr(country,1,instr(country,',') -1))\n",
      "        else TRIM(country) \n",
      "        end as single_country,\n",
      "    case\n",
      "        when instr(country, ',') > 0 then TRIM(substr(country, instr(country, ',') + 1))\n",
      "        else null\n",
      "        end as other_countries\n",
      "    from netflix where country is not null and trim(country) <> \"\"\n",
      "\n",
      "UNION ALL\n",
      "    select id,\n",
      "    case\n",
      "        when instr(other_countries, ',') > 0 then TRIM(substr(other_countries,1,instr(other_countries,',') -1))\n",
      "        else TRIM(other_countries) end,\n",
      "    case\n",
      "        when instr(other_countries, ',') > 0 then TRIM(substr(other_countries, instr(other_countries, ',') + 1))\n",
      "        else null\n",
      "        end\n",
      "    from countries_table where other_countries is not null\n",
      ")\n",
      "select * from countries_table order by id limit 5;]\n",
      "(Background on this error at: https://sqlalche.me/e/20/e3q8)\n"
     ]
    }
   ],
   "source": [
    "%%sql\n",
    "--# below I will make a new table with all the countries listed. I will use recursive formula for it.\n",
    "--# the logic goes as follows - countries_table is a recursive temporary table - we first choose the first column to consist only\n",
    "--# the first country by choosing only the characters up to the first \",\". Second column are all the other countries after the first \",\"\n",
    "--# Next we apply recursive formula where we select from this newly created temp. table countries_table with the same logic as decribed.\n",
    "--# this makes a new table with the exact same structure. We \"UNION ALL\" both tables. This process of the second recursive table continues\n",
    "--# until all second column components adre NULL. We also keep the ID from the original netflix table next to the countries.\n",
    "--# This implies that the first col of the table are the movie id's which can be repeated if the film was shot in diff. countries.\n",
    "--# and the single_country column shows the unique countries for each show\n",
    "WITH recursive countries_table as (\n",
    "    select id, \n",
    "    case \n",
    "        when instr(country, ',') > 0 then TRIM(substr(country,1,instr(country,',') -1))\n",
    "        else TRIM(country) \n",
    "        end as single_country,\n",
    "    case\n",
    "        when instr(country, ',') > 0 then TRIM(substr(country, instr(country, ',') + 1))\n",
    "        else null\n",
    "        end as other_countries\n",
    "    from netflix where country is not null and trim(country) <> \"\"\n",
    "\n",
    "UNION ALL\n",
    "    select id,\n",
    "    case\n",
    "        when instr(other_countries, ',') > 0 then TRIM(substr(other_countries,1,instr(other_countries,',') -1))\n",
    "        else TRIM(other_countries) end,\n",
    "    case\n",
    "        when instr(other_countries, ',') > 0 then TRIM(substr(other_countries, instr(other_countries, ',') + 1))\n",
    "        else null\n",
    "        end\n",
    "    from countries_table where other_countries is not null\n",
    ")\n",
    "select * from countries_table order by id limit 5;"
   ]
  },
  {
   "cell_type": "code",
   "execution_count": 58,
   "id": "4261b99e-375a-46eb-945c-414dcab6c38c",
   "metadata": {},
   "outputs": [
    {
     "name": "stdout",
     "output_type": "stream",
     "text": [
      " * sqlite:///netflix.db\n",
      "Done.\n",
      "(sqlite3.OperationalError) table shows_countries_perm already exists\n",
      "[SQL: create table shows_countries_perm as \n",
      "with recursive new_countries as (\n",
      "    select id,\n",
      "    case\n",
      "        when instr(country, \",\") > 0 then TRIM(substr(country, 1, instr(country, \",\") - 1))\n",
      "        else trim(country)\n",
      "        end as single_country,\n",
      "    case\n",
      "        when instr(country, \",\") > 0 then TRIM(substr(country, instr(country, \",\") + 1 ))\n",
      "        else null\n",
      "        end as other_countries\n",
      "    from netflix where country is not null and trim(country) <> \"\"\n",
      "\n",
      "    UNION ALL\n",
      "\n",
      "    select id,\n",
      "    case\n",
      "        when instr(other_countries, \",\") > 0 then TRIM(substr(other_countries, 1, instr(other_countries, \",\") - 1))\n",
      "        else trim(other_countries) end,\n",
      "    case \n",
      "        when instr(other_countries, \",\") > 0 then TRIM(substr(other_countries, instr(other_countries, \",\") + 1))\n",
      "        else null end\n",
      "    from new_countries where other_countries is not null\n",
      ")\n",
      "\n",
      "select id, single_country as country from new_countries order by id;]\n",
      "(Background on this error at: https://sqlalche.me/e/20/e3q8)\n"
     ]
    }
   ],
   "source": [
    "%%sql\n",
    "--## repeating the recursive code to get a new table with countries and show ids\n",
    "drop table if exists shows_countries;\n",
    "create table shows_countries_perm as \n",
    "with recursive new_countries as (\n",
    "    select id,\n",
    "    case\n",
    "        when instr(country, \",\") > 0 then TRIM(substr(country, 1, instr(country, \",\") - 1))\n",
    "        else trim(country)\n",
    "        end as single_country,\n",
    "    case\n",
    "        when instr(country, \",\") > 0 then TRIM(substr(country, instr(country, \",\") + 1 ))\n",
    "        else null\n",
    "        end as other_countries\n",
    "    from netflix where country is not null and trim(country) <> \"\"\n",
    "\n",
    "    UNION ALL\n",
    "\n",
    "    select id,\n",
    "    case\n",
    "        when instr(other_countries, \",\") > 0 then TRIM(substr(other_countries, 1, instr(other_countries, \",\") - 1))\n",
    "        else trim(other_countries) end,\n",
    "    case \n",
    "        when instr(other_countries, \",\") > 0 then TRIM(substr(other_countries, instr(other_countries, \",\") + 1))\n",
    "        else null end\n",
    "    from new_countries where other_countries is not null\n",
    ")\n",
    "\n",
    "select id, single_country as country from new_countries order by id;"
   ]
  },
  {
   "cell_type": "code",
   "execution_count": 59,
   "id": "5b5d2a0e-58cb-440f-8539-cdef64ffcbe9",
   "metadata": {},
   "outputs": [
    {
     "name": "stdout",
     "output_type": "stream",
     "text": [
      " * sqlite:///netflix.db\n",
      "Done.\n",
      "Done.\n",
      "123 rows affected.\n"
     ]
    },
    {
     "data": {
      "text/plain": [
       "[]"
      ]
     },
     "execution_count": 59,
     "metadata": {},
     "output_type": "execute_result"
    }
   ],
   "source": [
    "%%sql\n",
    "--# I checked manually the similar names for the same country but none were found.\n",
    "--# Now creating a table with distinct countries\n",
    "drop table if exists countries_table;\n",
    "create table countries_table (id integer primary key autoincrement,\n",
    "country varchar);\n",
    "insert into countries_table(country)\n",
    "select distinct(country) from shows_countries_perm where lower(country) not like \"%not given%\" order by country;"
   ]
  },
  {
   "cell_type": "code",
   "execution_count": 60,
   "id": "27583566-0a4d-4447-bf32-58cf3af32e10",
   "metadata": {},
   "outputs": [
    {
     "name": "stdout",
     "output_type": "stream",
     "text": [
      " * sqlite:///netflix.db\n",
      "Done.\n"
     ]
    },
    {
     "data": {
      "text/html": [
       "<table>\n",
       "    <thead>\n",
       "        <tr>\n",
       "            <th>id</th>\n",
       "            <th>country</th>\n",
       "        </tr>\n",
       "    </thead>\n",
       "    <tbody>\n",
       "        <tr>\n",
       "            <td>1</td>\n",
       "            <td></td>\n",
       "        </tr>\n",
       "        <tr>\n",
       "            <td>2</td>\n",
       "            <td>Afghanistan</td>\n",
       "        </tr>\n",
       "        <tr>\n",
       "            <td>3</td>\n",
       "            <td>Albania</td>\n",
       "        </tr>\n",
       "        <tr>\n",
       "            <td>4</td>\n",
       "            <td>Algeria</td>\n",
       "        </tr>\n",
       "        <tr>\n",
       "            <td>5</td>\n",
       "            <td>Angola</td>\n",
       "        </tr>\n",
       "        <tr>\n",
       "            <td>6</td>\n",
       "            <td>Argentina</td>\n",
       "        </tr>\n",
       "        <tr>\n",
       "            <td>7</td>\n",
       "            <td>Armenia</td>\n",
       "        </tr>\n",
       "        <tr>\n",
       "            <td>8</td>\n",
       "            <td>Australia</td>\n",
       "        </tr>\n",
       "        <tr>\n",
       "            <td>9</td>\n",
       "            <td>Austria</td>\n",
       "        </tr>\n",
       "        <tr>\n",
       "            <td>10</td>\n",
       "            <td>Azerbaijan</td>\n",
       "        </tr>\n",
       "        <tr>\n",
       "            <td>11</td>\n",
       "            <td>Bahamas</td>\n",
       "        </tr>\n",
       "        <tr>\n",
       "            <td>12</td>\n",
       "            <td>Bangladesh</td>\n",
       "        </tr>\n",
       "        <tr>\n",
       "            <td>13</td>\n",
       "            <td>Belarus</td>\n",
       "        </tr>\n",
       "        <tr>\n",
       "            <td>14</td>\n",
       "            <td>Belgium</td>\n",
       "        </tr>\n",
       "        <tr>\n",
       "            <td>15</td>\n",
       "            <td>Bermuda</td>\n",
       "        </tr>\n",
       "        <tr>\n",
       "            <td>16</td>\n",
       "            <td>Botswana</td>\n",
       "        </tr>\n",
       "        <tr>\n",
       "            <td>17</td>\n",
       "            <td>Brazil</td>\n",
       "        </tr>\n",
       "        <tr>\n",
       "            <td>18</td>\n",
       "            <td>Bulgaria</td>\n",
       "        </tr>\n",
       "        <tr>\n",
       "            <td>19</td>\n",
       "            <td>Burkina Faso</td>\n",
       "        </tr>\n",
       "        <tr>\n",
       "            <td>20</td>\n",
       "            <td>Cambodia</td>\n",
       "        </tr>\n",
       "    </tbody>\n",
       "</table>"
      ],
      "text/plain": [
       "[(1, ''),\n",
       " (2, 'Afghanistan'),\n",
       " (3, 'Albania'),\n",
       " (4, 'Algeria'),\n",
       " (5, 'Angola'),\n",
       " (6, 'Argentina'),\n",
       " (7, 'Armenia'),\n",
       " (8, 'Australia'),\n",
       " (9, 'Austria'),\n",
       " (10, 'Azerbaijan'),\n",
       " (11, 'Bahamas'),\n",
       " (12, 'Bangladesh'),\n",
       " (13, 'Belarus'),\n",
       " (14, 'Belgium'),\n",
       " (15, 'Bermuda'),\n",
       " (16, 'Botswana'),\n",
       " (17, 'Brazil'),\n",
       " (18, 'Bulgaria'),\n",
       " (19, 'Burkina Faso'),\n",
       " (20, 'Cambodia')]"
      ]
     },
     "execution_count": 60,
     "metadata": {},
     "output_type": "execute_result"
    }
   ],
   "source": [
    "%%sql\n",
    "select * from countries_table limit 20"
   ]
  },
  {
   "cell_type": "code",
   "execution_count": 61,
   "id": "ba299bc1-18fa-435a-92af-7623f7201251",
   "metadata": {},
   "outputs": [
    {
     "name": "stdout",
     "output_type": "stream",
     "text": [
      " * sqlite:///netflix.db\n",
      "Done.\n"
     ]
    },
    {
     "data": {
      "text/plain": [
       "[]"
      ]
     },
     "execution_count": 61,
     "metadata": {},
     "output_type": "execute_result"
    }
   ],
   "source": [
    "%%sql\n",
    "--# here we create the table shows_countries, which keeps the many to many relationship between the countries and shows\n",
    "create table if not exists shows_countries as \n",
    "select s.id as show_id, c.id as country_id from shows_countries_perm as s, countries_table as c\n",
    "where s.country = c.country limit 10;"
   ]
  },
  {
   "cell_type": "code",
   "execution_count": 62,
   "id": "248c1461-aeec-429d-bccd-ddc92d23ae13",
   "metadata": {},
   "outputs": [
    {
     "name": "stdout",
     "output_type": "stream",
     "text": [
      " * sqlite:///netflix.db\n",
      "Done.\n"
     ]
    },
    {
     "data": {
      "text/plain": [
       "[]"
      ]
     },
     "execution_count": 62,
     "metadata": {},
     "output_type": "execute_result"
    }
   ],
   "source": [
    "%%sql\n",
    "--# dropping the country column from netflix\n",
    "alter table netflix drop column country"
   ]
  },
  {
   "cell_type": "code",
   "execution_count": 63,
   "id": "cb05eb55-9880-4208-8718-f98901cc05f0",
   "metadata": {},
   "outputs": [
    {
     "name": "stdout",
     "output_type": "stream",
     "text": [
      " * sqlite:///netflix.db\n",
      "Done.\n",
      "Done.\n",
      "Done.\n"
     ]
    },
    {
     "data": {
      "text/html": [
       "<table>\n",
       "    <thead>\n",
       "        <tr>\n",
       "            <th>show_id</th>\n",
       "            <th>country_id</th>\n",
       "        </tr>\n",
       "    </thead>\n",
       "    <tbody>\n",
       "        <tr>\n",
       "            <td>1</td>\n",
       "            <td>117</td>\n",
       "        </tr>\n",
       "        <tr>\n",
       "            <td>2</td>\n",
       "            <td>101</td>\n",
       "        </tr>\n",
       "        <tr>\n",
       "            <td>5</td>\n",
       "            <td>47</td>\n",
       "        </tr>\n",
       "        <tr>\n",
       "            <td>6</td>\n",
       "            <td>117</td>\n",
       "        </tr>\n",
       "        <tr>\n",
       "            <td>8</td>\n",
       "            <td>117</td>\n",
       "        </tr>\n",
       "    </tbody>\n",
       "</table>"
      ],
      "text/plain": [
       "[(1, 117), (2, 101), (5, 47), (6, 117), (8, 117)]"
      ]
     },
     "execution_count": 63,
     "metadata": {},
     "output_type": "execute_result"
    }
   ],
   "source": [
    "%%sql\n",
    "--# let's recap what tables we have so far\n",
    "--# the netflix table\n",
    "select * from netflix limit 5;\n",
    "--# the countries table\n",
    "select * from countries_table limit 5;\n",
    "--# the shows_countries table that holds the relationship - shows - countries\n",
    "select * from shows_countries limit 5;"
   ]
  },
  {
   "cell_type": "code",
   "execution_count": 64,
   "id": "62cc8d68-a09a-4cf4-983c-5bd7317d714c",
   "metadata": {},
   "outputs": [
    {
     "name": "stdout",
     "output_type": "stream",
     "text": [
      " * sqlite:///netflix.db\n",
      "Done.\n"
     ]
    },
    {
     "data": {
      "text/html": [
       "<table>\n",
       "    <thead>\n",
       "        <tr>\n",
       "            <th>id</th>\n",
       "            <th>show_id</th>\n",
       "            <th>type</th>\n",
       "            <th>title</th>\n",
       "            <th>director</th>\n",
       "            <th>date_added</th>\n",
       "            <th>release_year</th>\n",
       "            <th>rating</th>\n",
       "            <th>duration</th>\n",
       "            <th>listed_in</th>\n",
       "        </tr>\n",
       "    </thead>\n",
       "    <tbody>\n",
       "        <tr>\n",
       "            <td>1</td>\n",
       "            <td>s1</td>\n",
       "            <td>Movie</td>\n",
       "            <td>Dick Johnson Is Dead</td>\n",
       "            <td>Kirsten Johnson</td>\n",
       "            <td>September 25, 2021</td>\n",
       "            <td>2020</td>\n",
       "            <td>PG-13</td>\n",
       "            <td>90 min</td>\n",
       "            <td>Documentaries</td>\n",
       "        </tr>\n",
       "        <tr>\n",
       "            <td>2</td>\n",
       "            <td>s2</td>\n",
       "            <td>TV Show</td>\n",
       "            <td>Blood &amp; Water</td>\n",
       "            <td>Not Given</td>\n",
       "            <td>September 24, 2021</td>\n",
       "            <td>2021</td>\n",
       "            <td>TV-MA</td>\n",
       "            <td>2 Seasons</td>\n",
       "            <td>International TV Shows, TV Dramas, TV Mysteries</td>\n",
       "        </tr>\n",
       "        <tr>\n",
       "            <td>3</td>\n",
       "            <td>s3</td>\n",
       "            <td>TV Show</td>\n",
       "            <td>Ganglands</td>\n",
       "            <td>Julien Leclercq</td>\n",
       "            <td>September 24, 2021</td>\n",
       "            <td>2021</td>\n",
       "            <td>TV-MA</td>\n",
       "            <td>1 Season</td>\n",
       "            <td>Crime TV Shows, International TV Shows, TV Action &amp; Adventure</td>\n",
       "        </tr>\n",
       "        <tr>\n",
       "            <td>4</td>\n",
       "            <td>s4</td>\n",
       "            <td>TV Show</td>\n",
       "            <td>Jailbirds New Orleans</td>\n",
       "            <td>Not Given</td>\n",
       "            <td>September 24, 2021</td>\n",
       "            <td>2021</td>\n",
       "            <td>TV-MA</td>\n",
       "            <td>1 Season</td>\n",
       "            <td>Docuseries, Reality TV</td>\n",
       "        </tr>\n",
       "        <tr>\n",
       "            <td>5</td>\n",
       "            <td>s5</td>\n",
       "            <td>TV Show</td>\n",
       "            <td>Kota Factory</td>\n",
       "            <td>Not Given</td>\n",
       "            <td>September 24, 2021</td>\n",
       "            <td>2021</td>\n",
       "            <td>TV-MA</td>\n",
       "            <td>2 Seasons</td>\n",
       "            <td>International TV Shows, Romantic TV Shows, TV Comedies</td>\n",
       "        </tr>\n",
       "    </tbody>\n",
       "</table>"
      ],
      "text/plain": [
       "[(1, 's1', 'Movie', 'Dick Johnson Is Dead', 'Kirsten Johnson', 'September 25, 2021', 2020, 'PG-13', '90 min', 'Documentaries'),\n",
       " (2, 's2', 'TV Show', 'Blood & Water', 'Not Given', 'September 24, 2021', 2021, 'TV-MA', '2 Seasons', 'International TV Shows, TV Dramas, TV Mysteries'),\n",
       " (3, 's3', 'TV Show', 'Ganglands', 'Julien Leclercq', 'September 24, 2021', 2021, 'TV-MA', '1 Season', 'Crime TV Shows, International TV Shows, TV Action & Adventure'),\n",
       " (4, 's4', 'TV Show', 'Jailbirds New Orleans', 'Not Given', 'September 24, 2021', 2021, 'TV-MA', '1 Season', 'Docuseries, Reality TV'),\n",
       " (5, 's5', 'TV Show', 'Kota Factory', 'Not Given', 'September 24, 2021', 2021, 'TV-MA', '2 Seasons', 'International TV Shows, Romantic TV Shows, TV Comedies')]"
      ]
     },
     "execution_count": 64,
     "metadata": {},
     "output_type": "execute_result"
    }
   ],
   "source": [
    "%%sql\n",
    "select * from netflix limit 5;"
   ]
  },
  {
   "cell_type": "markdown",
   "id": "485fbc6a-b834-4f49-8822-3763cb405c54",
   "metadata": {},
   "source": [
    "## altering the format of date_added \n",
    "Changing the date_added column to have the correct - date type\n"
   ]
  },
  {
   "cell_type": "code",
   "execution_count": 65,
   "id": "121d3cfe-5ec8-43c3-9f3c-65b81f3493fa",
   "metadata": {},
   "outputs": [],
   "source": [
    "# using python pandas to change the date type to datetime\n",
    "df1 = pd.read_sql_query('SELECT id, trim(date_added) as date_added FROM netflix', conn)\n",
    "df2 = pd.to_datetime(df1[\"date_added\"])"
   ]
  },
  {
   "cell_type": "code",
   "execution_count": 72,
   "id": "2768a84f-c93f-424f-89a9-7606effb36f2",
   "metadata": {},
   "outputs": [
    {
     "data": {
      "text/plain": [
       "8790"
      ]
     },
     "execution_count": 72,
     "metadata": {},
     "output_type": "execute_result"
    }
   ],
   "source": [
    "# creating a netflix_date table that will only have the dates in order as the column\n",
    "df2.dt.date.to_sql('netflix_date', conn, if_exists = 'replace', index = False)"
   ]
  },
  {
   "cell_type": "code",
   "execution_count": 73,
   "id": "9706dff8-196f-4c43-8bc8-50eb11873a51",
   "metadata": {},
   "outputs": [
    {
     "name": "stdout",
     "output_type": "stream",
     "text": [
      " * sqlite:///netflix.db\n",
      "Done.\n"
     ]
    },
    {
     "data": {
      "text/html": [
       "<table>\n",
       "    <thead>\n",
       "        <tr>\n",
       "            <th>date_added</th>\n",
       "        </tr>\n",
       "    </thead>\n",
       "    <tbody>\n",
       "        <tr>\n",
       "            <td>2021-09-25</td>\n",
       "        </tr>\n",
       "        <tr>\n",
       "            <td>2021-09-24</td>\n",
       "        </tr>\n",
       "        <tr>\n",
       "            <td>2021-09-24</td>\n",
       "        </tr>\n",
       "        <tr>\n",
       "            <td>2021-09-24</td>\n",
       "        </tr>\n",
       "        <tr>\n",
       "            <td>2021-09-24</td>\n",
       "        </tr>\n",
       "        <tr>\n",
       "            <td>2021-09-24</td>\n",
       "        </tr>\n",
       "        <tr>\n",
       "            <td>2021-09-24</td>\n",
       "        </tr>\n",
       "        <tr>\n",
       "            <td>2021-09-24</td>\n",
       "        </tr>\n",
       "        <tr>\n",
       "            <td>2021-09-24</td>\n",
       "        </tr>\n",
       "        <tr>\n",
       "            <td>2021-09-24</td>\n",
       "        </tr>\n",
       "        <tr>\n",
       "            <td>2021-09-24</td>\n",
       "        </tr>\n",
       "        <tr>\n",
       "            <td>2021-09-23</td>\n",
       "        </tr>\n",
       "        <tr>\n",
       "            <td>2021-09-23</td>\n",
       "        </tr>\n",
       "        <tr>\n",
       "            <td>2021-09-22</td>\n",
       "        </tr>\n",
       "        <tr>\n",
       "            <td>2021-09-22</td>\n",
       "        </tr>\n",
       "        <tr>\n",
       "            <td>2021-09-22</td>\n",
       "        </tr>\n",
       "        <tr>\n",
       "            <td>2021-09-22</td>\n",
       "        </tr>\n",
       "        <tr>\n",
       "            <td>2021-09-22</td>\n",
       "        </tr>\n",
       "        <tr>\n",
       "            <td>2021-09-22</td>\n",
       "        </tr>\n",
       "        <tr>\n",
       "            <td>2021-09-22</td>\n",
       "        </tr>\n",
       "    </tbody>\n",
       "</table>"
      ],
      "text/plain": [
       "[('2021-09-25',),\n",
       " ('2021-09-24',),\n",
       " ('2021-09-24',),\n",
       " ('2021-09-24',),\n",
       " ('2021-09-24',),\n",
       " ('2021-09-24',),\n",
       " ('2021-09-24',),\n",
       " ('2021-09-24',),\n",
       " ('2021-09-24',),\n",
       " ('2021-09-24',),\n",
       " ('2021-09-24',),\n",
       " ('2021-09-23',),\n",
       " ('2021-09-23',),\n",
       " ('2021-09-22',),\n",
       " ('2021-09-22',),\n",
       " ('2021-09-22',),\n",
       " ('2021-09-22',),\n",
       " ('2021-09-22',),\n",
       " ('2021-09-22',),\n",
       " ('2021-09-22',)]"
      ]
     },
     "execution_count": 73,
     "metadata": {},
     "output_type": "execute_result"
    }
   ],
   "source": [
    "%sql select * from netflix_date limit 20"
   ]
  },
  {
   "cell_type": "code",
   "execution_count": 74,
   "id": "4f467e24-c351-4cf4-85fa-2677d779de76",
   "metadata": {},
   "outputs": [
    {
     "name": "stdout",
     "output_type": "stream",
     "text": [
      " * sqlite:///netflix.db\n",
      "Done.\n"
     ]
    },
    {
     "data": {
      "text/html": [
       "<table>\n",
       "    <thead>\n",
       "        <tr>\n",
       "            <th>count(*)</th>\n",
       "        </tr>\n",
       "    </thead>\n",
       "    <tbody>\n",
       "        <tr>\n",
       "            <td>8790</td>\n",
       "        </tr>\n",
       "    </tbody>\n",
       "</table>"
      ],
      "text/plain": [
       "[(8790,)]"
      ]
     },
     "execution_count": 74,
     "metadata": {},
     "output_type": "execute_result"
    }
   ],
   "source": [
    "%%sql\n",
    "Select count(*) from netflix "
   ]
  },
  {
   "cell_type": "code",
   "execution_count": 80,
   "id": "964891c4-38a2-4b59-be7b-34df7b0ee0fd",
   "metadata": {},
   "outputs": [
    {
     "name": "stdout",
     "output_type": "stream",
     "text": [
      " * sqlite:///netflix.db\n",
      "Done.\n"
     ]
    },
    {
     "data": {
      "text/html": [
       "<table>\n",
       "    <thead>\n",
       "        <tr>\n",
       "            <th>cid</th>\n",
       "            <th>name</th>\n",
       "            <th>type</th>\n",
       "            <th>notnull</th>\n",
       "            <th>dflt_value</th>\n",
       "            <th>pk</th>\n",
       "        </tr>\n",
       "    </thead>\n",
       "    <tbody>\n",
       "        <tr>\n",
       "            <td>0</td>\n",
       "            <td>id</td>\n",
       "            <td>INTEGER</td>\n",
       "            <td>0</td>\n",
       "            <td>None</td>\n",
       "            <td>1</td>\n",
       "        </tr>\n",
       "        <tr>\n",
       "            <td>1</td>\n",
       "            <td>show_id</td>\n",
       "            <td>TEXT</td>\n",
       "            <td>0</td>\n",
       "            <td>None</td>\n",
       "            <td>0</td>\n",
       "        </tr>\n",
       "        <tr>\n",
       "            <td>2</td>\n",
       "            <td>type</td>\n",
       "            <td>TEXT</td>\n",
       "            <td>0</td>\n",
       "            <td>None</td>\n",
       "            <td>0</td>\n",
       "        </tr>\n",
       "        <tr>\n",
       "            <td>3</td>\n",
       "            <td>title</td>\n",
       "            <td>TEXT</td>\n",
       "            <td>0</td>\n",
       "            <td>None</td>\n",
       "            <td>0</td>\n",
       "        </tr>\n",
       "        <tr>\n",
       "            <td>4</td>\n",
       "            <td>director</td>\n",
       "            <td>TEXT</td>\n",
       "            <td>0</td>\n",
       "            <td>None</td>\n",
       "            <td>0</td>\n",
       "        </tr>\n",
       "        <tr>\n",
       "            <td>5</td>\n",
       "            <td>date_added</td>\n",
       "            <td>TEXT</td>\n",
       "            <td>0</td>\n",
       "            <td>None</td>\n",
       "            <td>0</td>\n",
       "        </tr>\n",
       "        <tr>\n",
       "            <td>6</td>\n",
       "            <td>release_year</td>\n",
       "            <td>INTEGER</td>\n",
       "            <td>0</td>\n",
       "            <td>None</td>\n",
       "            <td>0</td>\n",
       "        </tr>\n",
       "        <tr>\n",
       "            <td>7</td>\n",
       "            <td>rating</td>\n",
       "            <td>TEXT</td>\n",
       "            <td>0</td>\n",
       "            <td>None</td>\n",
       "            <td>0</td>\n",
       "        </tr>\n",
       "        <tr>\n",
       "            <td>8</td>\n",
       "            <td>duration</td>\n",
       "            <td>TEXT</td>\n",
       "            <td>0</td>\n",
       "            <td>None</td>\n",
       "            <td>0</td>\n",
       "        </tr>\n",
       "        <tr>\n",
       "            <td>9</td>\n",
       "            <td>listed_in</td>\n",
       "            <td>TEXT</td>\n",
       "            <td>0</td>\n",
       "            <td>None</td>\n",
       "            <td>0</td>\n",
       "        </tr>\n",
       "        <tr>\n",
       "            <td>10</td>\n",
       "            <td>new_date</td>\n",
       "            <td>DATE</td>\n",
       "            <td>0</td>\n",
       "            <td>None</td>\n",
       "            <td>0</td>\n",
       "        </tr>\n",
       "    </tbody>\n",
       "</table>"
      ],
      "text/plain": [
       "[(0, 'id', 'INTEGER', 0, None, 1),\n",
       " (1, 'show_id', 'TEXT', 0, None, 0),\n",
       " (2, 'type', 'TEXT', 0, None, 0),\n",
       " (3, 'title', 'TEXT', 0, None, 0),\n",
       " (4, 'director', 'TEXT', 0, None, 0),\n",
       " (5, 'date_added', 'TEXT', 0, None, 0),\n",
       " (6, 'release_year', 'INTEGER', 0, None, 0),\n",
       " (7, 'rating', 'TEXT', 0, None, 0),\n",
       " (8, 'duration', 'TEXT', 0, None, 0),\n",
       " (9, 'listed_in', 'TEXT', 0, None, 0),\n",
       " (10, 'new_date', 'DATE', 0, None, 0)]"
      ]
     },
     "execution_count": 80,
     "metadata": {},
     "output_type": "execute_result"
    }
   ],
   "source": [
    "%%sql \n",
    "PRAGMA table_info(netflix)"
   ]
  },
  {
   "cell_type": "code",
   "execution_count": 79,
   "id": "fff3a2de-f5b9-42bb-b235-306a1972f7db",
   "metadata": {},
   "outputs": [
    {
     "name": "stdout",
     "output_type": "stream",
     "text": [
      " * sqlite:///netflix.db\n",
      "(sqlite3.OperationalError) duplicate column name: new_date\n",
      "[SQL: --# adding a \n",
      "alter table netflix add column new_date DATE;]\n",
      "(Background on this error at: https://sqlalche.me/e/20/e3q8)\n"
     ]
    }
   ],
   "source": [
    "%%sql\n",
    "--# adding a new DATE type column to keep the newly formatted date\n",
    "alter table netflix add column new_date DATE;"
   ]
  },
  {
   "cell_type": "code",
   "execution_count": 83,
   "id": "f140647f-5140-49df-a587-c980d2479018",
   "metadata": {},
   "outputs": [
    {
     "name": "stdout",
     "output_type": "stream",
     "text": [
      " * sqlite:///netflix.db\n",
      "(sqlite3.OperationalError) no such column: new_date\n",
      "[SQL: update netflix\n",
      "set new_date = (select date_added from netflix_date);]\n",
      "(Background on this error at: https://sqlalche.me/e/20/e3q8)\n"
     ]
    }
   ],
   "source": [
    "%%sql \n",
    "update netflix\n",
    "set new_date = (select date_added from netflix_date);\n",
    "alter table netflix\n",
    "drop column date_added;\n",
    "alter table netflix\n",
    "rename column new_date to date_added;\n",
    "select * from netflix limit 20"
   ]
  },
  {
   "cell_type": "markdown",
   "id": "f65a8619-efdb-4629-83ed-29125f684a6f",
   "metadata": {},
   "source": [
    "## Updating duration\n",
    "Let's change duration so it is consistent in formating.\n",
    "\n",
    "Step by step:\n",
    "(i) verify there are only 2 types of \"movie\" and \"TV show\". If not make the evident ones same name exactly.\n",
    "(ii) check similar forms for min, mins - maybe there are hours or diff then season\n",
    "(iii) next alter the netflix table and add new columns - uration_movie_minutes and duration_TV_seasons - each must contain only the int duration of either type - minutes for movies and seasons for TV shows\n",
    "(iv) drop the old duration column"
   ]
  },
  {
   "cell_type": "code",
   "execution_count": 158,
   "id": "71cd053f-247a-4a66-9c90-ce1192ee95cd",
   "metadata": {},
   "outputs": [
    {
     "name": "stdout",
     "output_type": "stream",
     "text": [
      " * sqlite:///netflix.db\n",
      "Done.\n"
     ]
    },
    {
     "data": {
      "text/html": [
       "<table>\n",
       "    <thead>\n",
       "        <tr>\n",
       "            <th>id</th>\n",
       "            <th>show_id</th>\n",
       "            <th>type</th>\n",
       "            <th>title</th>\n",
       "            <th>director</th>\n",
       "            <th>release_year</th>\n",
       "            <th>rating</th>\n",
       "            <th>listed_in</th>\n",
       "            <th>date_added</th>\n",
       "            <th>duration_movie_minutes</th>\n",
       "            <th>duration_TV_seasons</th>\n",
       "        </tr>\n",
       "    </thead>\n",
       "    <tbody>\n",
       "        <tr>\n",
       "            <td>1</td>\n",
       "            <td>s1</td>\n",
       "            <td>Movie</td>\n",
       "            <td>Dick Johnson Is Dead</td>\n",
       "            <td>Kirsten Johnson</td>\n",
       "            <td>2020</td>\n",
       "            <td>PG-13</td>\n",
       "            <td>Documentaries</td>\n",
       "            <td>2021-09-25</td>\n",
       "            <td>90</td>\n",
       "            <td>None</td>\n",
       "        </tr>\n",
       "        <tr>\n",
       "            <td>2</td>\n",
       "            <td>s2</td>\n",
       "            <td>TV Show</td>\n",
       "            <td>Blood &amp; Water</td>\n",
       "            <td>Not Given</td>\n",
       "            <td>2021</td>\n",
       "            <td>TV-MA</td>\n",
       "            <td>International TV Shows, TV Dramas, TV Mysteries</td>\n",
       "            <td>2021-09-25</td>\n",
       "            <td>None</td>\n",
       "            <td>2</td>\n",
       "        </tr>\n",
       "        <tr>\n",
       "            <td>3</td>\n",
       "            <td>s3</td>\n",
       "            <td>TV Show</td>\n",
       "            <td>Ganglands</td>\n",
       "            <td>Julien Leclercq</td>\n",
       "            <td>2021</td>\n",
       "            <td>TV-MA</td>\n",
       "            <td>Crime TV Shows, International TV Shows, TV Action &amp; Adventure</td>\n",
       "            <td>2021-09-25</td>\n",
       "            <td>None</td>\n",
       "            <td>1</td>\n",
       "        </tr>\n",
       "        <tr>\n",
       "            <td>4</td>\n",
       "            <td>s4</td>\n",
       "            <td>TV Show</td>\n",
       "            <td>Jailbirds New Orleans</td>\n",
       "            <td>Not Given</td>\n",
       "            <td>2021</td>\n",
       "            <td>TV-MA</td>\n",
       "            <td>Docuseries, Reality TV</td>\n",
       "            <td>2021-09-25</td>\n",
       "            <td>None</td>\n",
       "            <td>1</td>\n",
       "        </tr>\n",
       "        <tr>\n",
       "            <td>5</td>\n",
       "            <td>s5</td>\n",
       "            <td>TV Show</td>\n",
       "            <td>Kota Factory</td>\n",
       "            <td>Not Given</td>\n",
       "            <td>2021</td>\n",
       "            <td>TV-MA</td>\n",
       "            <td>International TV Shows, Romantic TV Shows, TV Comedies</td>\n",
       "            <td>2021-09-25</td>\n",
       "            <td>None</td>\n",
       "            <td>2</td>\n",
       "        </tr>\n",
       "    </tbody>\n",
       "</table>"
      ],
      "text/plain": [
       "[(1, 's1', 'Movie', 'Dick Johnson Is Dead', 'Kirsten Johnson', 2020, 'PG-13', 'Documentaries', '2021-09-25', 90, None),\n",
       " (2, 's2', 'TV Show', 'Blood & Water', 'Not Given', 2021, 'TV-MA', 'International TV Shows, TV Dramas, TV Mysteries', '2021-09-25', None, 2),\n",
       " (3, 's3', 'TV Show', 'Ganglands', 'Julien Leclercq', 2021, 'TV-MA', 'Crime TV Shows, International TV Shows, TV Action & Adventure', '2021-09-25', None, 1),\n",
       " (4, 's4', 'TV Show', 'Jailbirds New Orleans', 'Not Given', 2021, 'TV-MA', 'Docuseries, Reality TV', '2021-09-25', None, 1),\n",
       " (5, 's5', 'TV Show', 'Kota Factory', 'Not Given', 2021, 'TV-MA', 'International TV Shows, Romantic TV Shows, TV Comedies', '2021-09-25', None, 2)]"
      ]
     },
     "execution_count": 158,
     "metadata": {},
     "output_type": "execute_result"
    }
   ],
   "source": [
    "%%sql\n",
    "select * from netflix limit 5;"
   ]
  },
  {
   "cell_type": "code",
   "execution_count": 109,
   "id": "9ac78b54-f185-4c6c-95b2-7ad77ec41ad7",
   "metadata": {},
   "outputs": [
    {
     "name": "stdout",
     "output_type": "stream",
     "text": [
      " * sqlite:///netflix.db\n",
      "Done.\n"
     ]
    },
    {
     "data": {
      "text/html": [
       "<table>\n",
       "    <thead>\n",
       "        <tr>\n",
       "            <th>count(*)</th>\n",
       "        </tr>\n",
       "    </thead>\n",
       "    <tbody>\n",
       "        <tr>\n",
       "            <td>2664</td>\n",
       "        </tr>\n",
       "    </tbody>\n",
       "</table>"
      ],
      "text/plain": [
       "[(2664,)]"
      ]
     },
     "execution_count": 109,
     "metadata": {},
     "output_type": "execute_result"
    }
   ],
   "source": [
    "%%sql\n",
    "select count(*) from netflix where type = \"TV Show\" and duration glob \"*Season*\";"
   ]
  },
  {
   "cell_type": "code",
   "execution_count": 113,
   "id": "6b27dd7e-8ab8-46dc-80cc-57358483c393",
   "metadata": {},
   "outputs": [
    {
     "name": "stdout",
     "output_type": "stream",
     "text": [
      " * sqlite:///netflix.db\n",
      "Done.\n"
     ]
    },
    {
     "data": {
      "text/plain": [
       "[]"
      ]
     },
     "execution_count": 113,
     "metadata": {},
     "output_type": "execute_result"
    }
   ],
   "source": [
    "%%sql\n",
    "alter table netflix\n",
    "drop column TV_duration;"
   ]
  },
  {
   "cell_type": "code",
   "execution_count": 135,
   "id": "3f5d9587-27e2-4bfd-a561-5e589ef23f65",
   "metadata": {},
   "outputs": [
    {
     "name": "stdout",
     "output_type": "stream",
     "text": [
      " * sqlite:///netflix.db\n",
      "Done.\n",
      "Done.\n"
     ]
    },
    {
     "data": {
      "text/plain": [
       "[]"
      ]
     },
     "execution_count": 135,
     "metadata": {},
     "output_type": "execute_result"
    }
   ],
   "source": [
    "%%sql\n",
    "drop table if exists durations;\n",
    "create table durations as\n",
    "with duration_table as \n",
    "(select id, type, \n",
    "cast(trim(substr(duration, 1, instr(duration, ' '))) as integer) as duration from netflix)\n",
    "select * from duration_table order by id asc;"
   ]
  },
  {
   "cell_type": "code",
   "execution_count": 138,
   "id": "ffa19745-b3e1-46db-ab8a-34aec07fb150",
   "metadata": {},
   "outputs": [
    {
     "name": "stdout",
     "output_type": "stream",
     "text": [
      " * sqlite:///netflix.db\n",
      "Done.\n"
     ]
    },
    {
     "data": {
      "text/html": [
       "<table>\n",
       "    <thead>\n",
       "        <tr>\n",
       "            <th>id</th>\n",
       "            <th>type</th>\n",
       "            <th>duration</th>\n",
       "        </tr>\n",
       "    </thead>\n",
       "    <tbody>\n",
       "        <tr>\n",
       "            <td>1</td>\n",
       "            <td>Movie</td>\n",
       "            <td>90</td>\n",
       "        </tr>\n",
       "        <tr>\n",
       "            <td>2</td>\n",
       "            <td>TV Show</td>\n",
       "            <td>2</td>\n",
       "        </tr>\n",
       "        <tr>\n",
       "            <td>3</td>\n",
       "            <td>TV Show</td>\n",
       "            <td>1</td>\n",
       "        </tr>\n",
       "        <tr>\n",
       "            <td>4</td>\n",
       "            <td>TV Show</td>\n",
       "            <td>1</td>\n",
       "        </tr>\n",
       "        <tr>\n",
       "            <td>5</td>\n",
       "            <td>TV Show</td>\n",
       "            <td>2</td>\n",
       "        </tr>\n",
       "    </tbody>\n",
       "</table>"
      ],
      "text/plain": [
       "[(1, 'Movie', 90),\n",
       " (2, 'TV Show', 2),\n",
       " (3, 'TV Show', 1),\n",
       " (4, 'TV Show', 1),\n",
       " (5, 'TV Show', 2)]"
      ]
     },
     "execution_count": 138,
     "metadata": {},
     "output_type": "execute_result"
    }
   ],
   "source": [
    "%sql select * from durations limit 5;"
   ]
  },
  {
   "cell_type": "code",
   "execution_count": 140,
   "id": "ae547339-689c-4c9e-8ab4-915c41b11511",
   "metadata": {},
   "outputs": [
    {
     "name": "stdout",
     "output_type": "stream",
     "text": [
      " * sqlite:///netflix.db\n",
      "(sqlite3.OperationalError) duplicate column name: duration_movie_minutes\n",
      "[SQL: alter table netflix\n",
      "add column duration_movie_minutes integer;]\n",
      "(Background on this error at: https://sqlalche.me/e/20/e3q8)\n"
     ]
    }
   ],
   "source": [
    "%%sql\n",
    "alter table netflix\n",
    "add column duration_movie_minutes integer;"
   ]
  },
  {
   "cell_type": "code",
   "execution_count": 141,
   "id": "35b069bb-14ff-496c-a30e-9f44639be7bf",
   "metadata": {},
   "outputs": [
    {
     "name": "stdout",
     "output_type": "stream",
     "text": [
      " * sqlite:///netflix.db\n",
      "Done.\n"
     ]
    },
    {
     "data": {
      "text/plain": [
       "[]"
      ]
     },
     "execution_count": 141,
     "metadata": {},
     "output_type": "execute_result"
    }
   ],
   "source": [
    "%%sql\n",
    "alter table netflix\n",
    "add column duration_TV_seasons integer;"
   ]
  },
  {
   "cell_type": "code",
   "execution_count": 142,
   "id": "1b49a261-3baa-4ca5-b11a-b1630418f3b2",
   "metadata": {},
   "outputs": [
    {
     "name": "stdout",
     "output_type": "stream",
     "text": [
      " * sqlite:///netflix.db\n",
      "8790 rows affected.\n"
     ]
    },
    {
     "data": {
      "text/plain": [
       "[]"
      ]
     },
     "execution_count": 142,
     "metadata": {},
     "output_type": "execute_result"
    }
   ],
   "source": [
    "%%sql\n",
    "update netflix\n",
    "set duration_movie_minutes = CASE\n",
    "    WHEN type = \"TV Show\" then NULL\n",
    "    ELSE (SELECT duration from durations where durations.id = netflix.id) end;"
   ]
  },
  {
   "cell_type": "code",
   "execution_count": 144,
   "id": "5feef6e7-8c4c-433d-9336-aea39b9a2fca",
   "metadata": {},
   "outputs": [
    {
     "name": "stdout",
     "output_type": "stream",
     "text": [
      " * sqlite:///netflix.db\n",
      "8790 rows affected.\n"
     ]
    },
    {
     "data": {
      "text/plain": [
       "[]"
      ]
     },
     "execution_count": 144,
     "metadata": {},
     "output_type": "execute_result"
    }
   ],
   "source": [
    "%%sql\n",
    "update netflix\n",
    "set duration_TV_seasons = case\n",
    "    when type = \"Movie\" then Null\n",
    "    else (select duration from durations where durations.id = netflix.id) end;"
   ]
  },
  {
   "cell_type": "code",
   "execution_count": 154,
   "id": "43d17239-1cee-475c-9237-d719876b56de",
   "metadata": {},
   "outputs": [
    {
     "name": "stdout",
     "output_type": "stream",
     "text": [
      " * sqlite:///netflix.db\n",
      "(sqlite3.OperationalError) no such column: \"duration\"\n",
      "[SQL: alter table netflix drop column duration;]\n",
      "(Background on this error at: https://sqlalche.me/e/20/e3q8)\n"
     ]
    }
   ],
   "source": [
    "%%sql\n",
    "alter table netflix drop column duration;"
   ]
  },
  {
   "cell_type": "code",
   "execution_count": 157,
   "id": "51d3ca87-1b67-4238-b3b9-150a129b9407",
   "metadata": {},
   "outputs": [
    {
     "name": "stdout",
     "output_type": "stream",
     "text": [
      " * sqlite:///netflix.db\n",
      "Done.\n"
     ]
    },
    {
     "data": {
      "text/html": [
       "<table>\n",
       "    <thead>\n",
       "        <tr>\n",
       "            <th>rating</th>\n",
       "        </tr>\n",
       "    </thead>\n",
       "    <tbody>\n",
       "        <tr>\n",
       "            <td>PG-13</td>\n",
       "        </tr>\n",
       "        <tr>\n",
       "            <td>TV-MA</td>\n",
       "        </tr>\n",
       "        <tr>\n",
       "            <td>PG</td>\n",
       "        </tr>\n",
       "        <tr>\n",
       "            <td>TV-14</td>\n",
       "        </tr>\n",
       "        <tr>\n",
       "            <td>TV-PG</td>\n",
       "        </tr>\n",
       "        <tr>\n",
       "            <td>TV-Y</td>\n",
       "        </tr>\n",
       "        <tr>\n",
       "            <td>TV-Y7</td>\n",
       "        </tr>\n",
       "        <tr>\n",
       "            <td>R</td>\n",
       "        </tr>\n",
       "        <tr>\n",
       "            <td>TV-G</td>\n",
       "        </tr>\n",
       "        <tr>\n",
       "            <td>G</td>\n",
       "        </tr>\n",
       "        <tr>\n",
       "            <td>NC-17</td>\n",
       "        </tr>\n",
       "        <tr>\n",
       "            <td>NR</td>\n",
       "        </tr>\n",
       "        <tr>\n",
       "            <td>TV-Y7-FV</td>\n",
       "        </tr>\n",
       "        <tr>\n",
       "            <td>UR</td>\n",
       "        </tr>\n",
       "    </tbody>\n",
       "</table>"
      ],
      "text/plain": [
       "[('PG-13',),\n",
       " ('TV-MA',),\n",
       " ('PG',),\n",
       " ('TV-14',),\n",
       " ('TV-PG',),\n",
       " ('TV-Y',),\n",
       " ('TV-Y7',),\n",
       " ('R',),\n",
       " ('TV-G',),\n",
       " ('G',),\n",
       " ('NC-17',),\n",
       " ('NR',),\n",
       " ('TV-Y7-FV',),\n",
       " ('UR',)]"
      ]
     },
     "execution_count": 157,
     "metadata": {},
     "output_type": "execute_result"
    }
   ],
   "source": [
    "%%sql\n",
    "--# no similar forms of the same rating - all different\n",
    "select distinct(rating) from netflix;"
   ]
  },
  {
   "cell_type": "markdown",
   "id": "62faea25-76f5-40d4-86d4-44ed5f29e41b",
   "metadata": {},
   "source": [
    "## dropping the listed_in\n",
    "As the purpos of general analysis, we don't need the genres, hence we drop the listed_in column"
   ]
  },
  {
   "cell_type": "code",
   "execution_count": 159,
   "id": "ca8d630e-7648-41fd-a8f5-4e84a53a809b",
   "metadata": {},
   "outputs": [
    {
     "name": "stdout",
     "output_type": "stream",
     "text": [
      " * sqlite:///netflix.db\n",
      "Done.\n"
     ]
    },
    {
     "data": {
      "text/plain": [
       "[]"
      ]
     },
     "execution_count": 159,
     "metadata": {},
     "output_type": "execute_result"
    }
   ],
   "source": [
    "%%sql\n",
    "alter table netflix drop column listed_in;"
   ]
  },
  {
   "cell_type": "code",
   "execution_count": 160,
   "id": "b031bfcc-3612-4525-b76f-be1281df0cbf",
   "metadata": {},
   "outputs": [
    {
     "name": "stdout",
     "output_type": "stream",
     "text": [
      " * sqlite:///netflix.db\n",
      "Done.\n"
     ]
    },
    {
     "data": {
      "text/html": [
       "<table>\n",
       "    <thead>\n",
       "        <tr>\n",
       "            <th>id</th>\n",
       "            <th>show_id</th>\n",
       "            <th>type</th>\n",
       "            <th>title</th>\n",
       "            <th>director</th>\n",
       "            <th>release_year</th>\n",
       "            <th>rating</th>\n",
       "            <th>date_added</th>\n",
       "            <th>duration_movie_minutes</th>\n",
       "            <th>duration_TV_seasons</th>\n",
       "        </tr>\n",
       "    </thead>\n",
       "    <tbody>\n",
       "        <tr>\n",
       "            <td>1</td>\n",
       "            <td>s1</td>\n",
       "            <td>Movie</td>\n",
       "            <td>Dick Johnson Is Dead</td>\n",
       "            <td>Kirsten Johnson</td>\n",
       "            <td>2020</td>\n",
       "            <td>PG-13</td>\n",
       "            <td>2021-09-25</td>\n",
       "            <td>90</td>\n",
       "            <td>None</td>\n",
       "        </tr>\n",
       "        <tr>\n",
       "            <td>2</td>\n",
       "            <td>s2</td>\n",
       "            <td>TV Show</td>\n",
       "            <td>Blood &amp; Water</td>\n",
       "            <td>Not Given</td>\n",
       "            <td>2021</td>\n",
       "            <td>TV-MA</td>\n",
       "            <td>2021-09-25</td>\n",
       "            <td>None</td>\n",
       "            <td>2</td>\n",
       "        </tr>\n",
       "        <tr>\n",
       "            <td>3</td>\n",
       "            <td>s3</td>\n",
       "            <td>TV Show</td>\n",
       "            <td>Ganglands</td>\n",
       "            <td>Julien Leclercq</td>\n",
       "            <td>2021</td>\n",
       "            <td>TV-MA</td>\n",
       "            <td>2021-09-25</td>\n",
       "            <td>None</td>\n",
       "            <td>1</td>\n",
       "        </tr>\n",
       "        <tr>\n",
       "            <td>4</td>\n",
       "            <td>s4</td>\n",
       "            <td>TV Show</td>\n",
       "            <td>Jailbirds New Orleans</td>\n",
       "            <td>Not Given</td>\n",
       "            <td>2021</td>\n",
       "            <td>TV-MA</td>\n",
       "            <td>2021-09-25</td>\n",
       "            <td>None</td>\n",
       "            <td>1</td>\n",
       "        </tr>\n",
       "        <tr>\n",
       "            <td>5</td>\n",
       "            <td>s5</td>\n",
       "            <td>TV Show</td>\n",
       "            <td>Kota Factory</td>\n",
       "            <td>Not Given</td>\n",
       "            <td>2021</td>\n",
       "            <td>TV-MA</td>\n",
       "            <td>2021-09-25</td>\n",
       "            <td>None</td>\n",
       "            <td>2</td>\n",
       "        </tr>\n",
       "    </tbody>\n",
       "</table>"
      ],
      "text/plain": [
       "[(1, 's1', 'Movie', 'Dick Johnson Is Dead', 'Kirsten Johnson', 2020, 'PG-13', '2021-09-25', 90, None),\n",
       " (2, 's2', 'TV Show', 'Blood & Water', 'Not Given', 2021, 'TV-MA', '2021-09-25', None, 2),\n",
       " (3, 's3', 'TV Show', 'Ganglands', 'Julien Leclercq', 2021, 'TV-MA', '2021-09-25', None, 1),\n",
       " (4, 's4', 'TV Show', 'Jailbirds New Orleans', 'Not Given', 2021, 'TV-MA', '2021-09-25', None, 1),\n",
       " (5, 's5', 'TV Show', 'Kota Factory', 'Not Given', 2021, 'TV-MA', '2021-09-25', None, 2)]"
      ]
     },
     "execution_count": 160,
     "metadata": {},
     "output_type": "execute_result"
    }
   ],
   "source": [
    "%%sql\n",
    "select * from netflix limit 5;"
   ]
  },
  {
   "cell_type": "markdown",
   "id": "11ac28b5-aad1-4407-9898-4c57ac9e95f5",
   "metadata": {},
   "source": []
  }
 ],
 "metadata": {
  "kernelspec": {
   "display_name": "Python 3 (ipykernel)",
   "language": "python",
   "name": "python3"
  },
  "language_info": {
   "codemirror_mode": {
    "name": "ipython",
    "version": 3
   },
   "file_extension": ".py",
   "mimetype": "text/x-python",
   "name": "python",
   "nbconvert_exporter": "python",
   "pygments_lexer": "ipython3",
   "version": "3.13.3"
  }
 },
 "nbformat": 4,
 "nbformat_minor": 5
}
